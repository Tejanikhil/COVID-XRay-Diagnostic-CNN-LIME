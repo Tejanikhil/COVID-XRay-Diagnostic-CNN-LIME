{
 "cells": [
  {
   "cell_type": "code",
   "execution_count": 1,
   "metadata": {},
   "outputs": [],
   "source": [
    "import cv2\n",
    "import tensorflow as tf\n",
    "import tensorflow.keras\n",
    "from tensorflow.keras.models import Sequential\n",
    "from tensorflow.keras.layers import Conv2D, Flatten, Dense, MaxPooling2D, Dropout, BatchNormalization\n",
    "from tensorflow.keras.preprocessing import image\n",
    "from keras.regularizers import l2\n",
    "import os\n",
    "import matplotlib.pyplot as plt\n",
    "import random\n",
    "import shutil\n",
    "import numpy as np"
   ]
  },
  {
   "cell_type": "code",
   "execution_count": 2,
   "metadata": {},
   "outputs": [],
   "source": [
    "from tensorflow.keras.applications import InceptionV3"
   ]
  },
  {
   "cell_type": "code",
   "execution_count": 5,
   "metadata": {},
   "outputs": [],
   "source": [
    "inception = InceptionV3(weights = \"imagenet\", include_top = False, input_shape = (224,224,3))"
   ]
  },
  {
   "cell_type": "code",
   "execution_count": 6,
   "metadata": {},
   "outputs": [
    {
     "name": "stdout",
     "output_type": "stream",
     "text": [
      "<keras.engine.input_layer.InputLayer object at 0x00000156BA7C2BB0> False\n",
      "<keras.layers.convolutional.Conv2D object at 0x00000156BA7406A0> False\n",
      "<keras.layers.normalization.batch_normalization.BatchNormalization object at 0x00000156B0A6CF70> False\n",
      "<keras.layers.core.activation.Activation object at 0x00000156BF6447C0> False\n",
      "<keras.layers.convolutional.Conv2D object at 0x00000156BF64E5E0> False\n",
      "<keras.layers.normalization.batch_normalization.BatchNormalization object at 0x00000156BF644520> False\n",
      "<keras.layers.core.activation.Activation object at 0x00000156BF601A60> False\n",
      "<keras.layers.convolutional.Conv2D object at 0x00000156BF6054F0> False\n",
      "<keras.layers.normalization.batch_normalization.BatchNormalization object at 0x00000156BF64E820> False\n",
      "<keras.layers.core.activation.Activation object at 0x00000156BEAD6190> False\n",
      "<keras.layers.pooling.MaxPooling2D object at 0x00000156BEAEF850> False\n",
      "<keras.layers.convolutional.Conv2D object at 0x00000156BF5ECA90> False\n",
      "<keras.layers.normalization.batch_normalization.BatchNormalization object at 0x00000156B23D5BE0> False\n",
      "<keras.layers.core.activation.Activation object at 0x00000156BA7FB100> False\n",
      "<keras.layers.convolutional.Conv2D object at 0x00000156BFDE6E80> False\n",
      "<keras.layers.normalization.batch_normalization.BatchNormalization object at 0x00000156BFDEC490> False\n",
      "<keras.layers.core.activation.Activation object at 0x00000156BFDEC730> False\n",
      "<keras.layers.pooling.MaxPooling2D object at 0x00000156BFDEFC40> False\n",
      "<keras.layers.convolutional.Conv2D object at 0x00000156BFE235B0> False\n",
      "<keras.layers.normalization.batch_normalization.BatchNormalization object at 0x00000156BFE31070> False\n",
      "<keras.layers.core.activation.Activation object at 0x00000156BFE1DF70> False\n",
      "<keras.layers.convolutional.Conv2D object at 0x00000156BFDFA610> False\n",
      "<keras.layers.convolutional.Conv2D object at 0x00000156BFE317C0> False\n",
      "<keras.layers.normalization.batch_normalization.BatchNormalization object at 0x00000156BFE10130> False\n",
      "<keras.layers.normalization.batch_normalization.BatchNormalization object at 0x00000156BFE5D310> False\n",
      "<keras.layers.core.activation.Activation object at 0x00000156BFE04EE0> False\n",
      "<keras.layers.core.activation.Activation object at 0x00000156BFE53A60> False\n",
      "<keras.layers.pooling.AveragePooling2D object at 0x00000156BFE53A90> False\n",
      "<keras.layers.convolutional.Conv2D object at 0x00000156BFDED0D0> False\n",
      "<keras.layers.convolutional.Conv2D object at 0x00000156BFE12D60> False\n",
      "<keras.layers.convolutional.Conv2D object at 0x00000156BFE433A0> False\n",
      "<keras.layers.convolutional.Conv2D object at 0x00000156BFE53100> False\n",
      "<keras.layers.normalization.batch_normalization.BatchNormalization object at 0x00000156BFDEC280> False\n",
      "<keras.layers.normalization.batch_normalization.BatchNormalization object at 0x00000156BFE2BAF0> False\n",
      "<keras.layers.normalization.batch_normalization.BatchNormalization object at 0x00000156BFE31D00> False\n",
      "<keras.layers.normalization.batch_normalization.BatchNormalization object at 0x00000156BFE5D610> False\n",
      "<keras.layers.core.activation.Activation object at 0x00000156BFDED760> False\n",
      "<keras.layers.core.activation.Activation object at 0x00000156BFE2BE80> False\n",
      "<keras.layers.core.activation.Activation object at 0x00000156BFE43CD0> False\n",
      "<keras.layers.core.activation.Activation object at 0x00000156BFE31DC0> False\n",
      "<keras.layers.merge.Concatenate object at 0x00000156BFE2B070> False\n",
      "<keras.layers.convolutional.Conv2D object at 0x00000156BFE6D0D0> False\n",
      "<keras.layers.normalization.batch_normalization.BatchNormalization object at 0x00000156BFE6DB50> False\n",
      "<keras.layers.core.activation.Activation object at 0x00000156BFE6DA90> False\n",
      "<keras.layers.convolutional.Conv2D object at 0x00000156BFDE61F0> False\n",
      "<keras.layers.convolutional.Conv2D object at 0x00000156BFE7B4C0> False\n",
      "<keras.layers.normalization.batch_normalization.BatchNormalization object at 0x00000156BFDE6610> False\n",
      "<keras.layers.normalization.batch_normalization.BatchNormalization object at 0x00000156BFE889A0> False\n",
      "<keras.layers.core.activation.Activation object at 0x00000156BFE0A3D0> False\n",
      "<keras.layers.core.activation.Activation object at 0x00000156BFE83CD0> False\n",
      "<keras.layers.pooling.AveragePooling2D object at 0x00000156BFEBA760> False\n",
      "<keras.layers.convolutional.Conv2D object at 0x00000156BF5F7D00> False\n",
      "<keras.layers.convolutional.Conv2D object at 0x00000156BFE60610> False\n",
      "<keras.layers.convolutional.Conv2D object at 0x00000156BFE93100> False\n",
      "<keras.layers.convolutional.Conv2D object at 0x00000156BFEC1C10> False\n",
      "<keras.layers.normalization.batch_normalization.BatchNormalization object at 0x00000156BFE0AB20> False\n",
      "<keras.layers.normalization.batch_normalization.BatchNormalization object at 0x00000156BF605880> False\n",
      "<keras.layers.normalization.batch_normalization.BatchNormalization object at 0x00000156BFE7B100> False\n",
      "<keras.layers.normalization.batch_normalization.BatchNormalization object at 0x00000156BFEBA610> False\n",
      "<keras.layers.core.activation.Activation object at 0x00000156BFE04070> False\n",
      "<keras.layers.core.activation.Activation object at 0x00000156BFE60D90> False\n",
      "<keras.layers.core.activation.Activation object at 0x00000156BFEC11F0> False\n",
      "<keras.layers.core.activation.Activation object at 0x00000156BFEC1550> False\n",
      "<keras.layers.merge.Concatenate object at 0x00000156BFEC1130> False\n",
      "<keras.layers.convolutional.Conv2D object at 0x00000156BFEC3370> False\n",
      "<keras.layers.normalization.batch_normalization.BatchNormalization object at 0x00000156BFECC670> False\n",
      "<keras.layers.core.activation.Activation object at 0x00000156BFEDF6A0> False\n",
      "<keras.layers.convolutional.Conv2D object at 0x00000156BFE9FE20> False\n",
      "<keras.layers.convolutional.Conv2D object at 0x00000156BFECC8B0> False\n",
      "<keras.layers.normalization.batch_normalization.BatchNormalization object at 0x00000156BFDE61C0> False\n",
      "<keras.layers.normalization.batch_normalization.BatchNormalization object at 0x00000156BFEC3790> False\n",
      "<keras.layers.core.activation.Activation object at 0x00000156BFE886D0> False\n",
      "<keras.layers.core.activation.Activation object at 0x00000156BFEC9F40> False\n",
      "<keras.layers.pooling.AveragePooling2D object at 0x00000156BFEEF520> False\n",
      "<keras.layers.convolutional.Conv2D object at 0x00000156BFE83580> False\n",
      "<keras.layers.convolutional.Conv2D object at 0x00000156BFE669A0> False\n",
      "<keras.layers.convolutional.Conv2D object at 0x00000156BFEDC5E0> False\n",
      "<keras.layers.convolutional.Conv2D object at 0x00000156BFEBAAF0> False\n",
      "<keras.layers.normalization.batch_normalization.BatchNormalization object at 0x00000156BFE880D0> False\n",
      "<keras.layers.normalization.batch_normalization.BatchNormalization object at 0x00000156BFE73580> False\n",
      "<keras.layers.normalization.batch_normalization.BatchNormalization object at 0x00000156BFEE9FA0> False\n",
      "<keras.layers.normalization.batch_normalization.BatchNormalization object at 0x00000156BFEC9F70> False\n",
      "<keras.layers.core.activation.Activation object at 0x00000156BFEA6AC0> False\n",
      "<keras.layers.core.activation.Activation object at 0x00000156BFE737F0> False\n",
      "<keras.layers.core.activation.Activation object at 0x00000156BFED5D00> False\n",
      "<keras.layers.core.activation.Activation object at 0x00000156BFF20C10> False\n",
      "<keras.layers.merge.Concatenate object at 0x00000156BFF20DC0> False\n",
      "<keras.layers.convolutional.Conv2D object at 0x00000156BFF19400> False\n",
      "<keras.layers.normalization.batch_normalization.BatchNormalization object at 0x00000156BFF0A220> False\n",
      "<keras.layers.core.activation.Activation object at 0x00000156BFF04940> False\n",
      "<keras.layers.convolutional.Conv2D object at 0x00000156BFEE91C0> False\n",
      "<keras.layers.normalization.batch_normalization.BatchNormalization object at 0x00000156BFE6D6D0> False\n",
      "<keras.layers.core.activation.Activation object at 0x00000156BFECF280> False\n",
      "<keras.layers.convolutional.Conv2D object at 0x00000156BFF20B50> False\n",
      "<keras.layers.convolutional.Conv2D object at 0x00000156BFED5340> False\n",
      "<keras.layers.normalization.batch_normalization.BatchNormalization object at 0x00000156BFF04790> False\n",
      "<keras.layers.normalization.batch_normalization.BatchNormalization object at 0x00000156BFEA66A0> False\n",
      "<keras.layers.core.activation.Activation object at 0x00000156BFEDF100> False\n",
      "<keras.layers.core.activation.Activation object at 0x00000156BFEC14C0> False\n",
      "<keras.layers.pooling.MaxPooling2D object at 0x00000156BFF2B700> False\n",
      "<keras.layers.merge.Concatenate object at 0x00000156BFF2B550> False\n",
      "<keras.layers.convolutional.Conv2D object at 0x00000156C021FA30> False\n",
      "<keras.layers.normalization.batch_normalization.BatchNormalization object at 0x00000156C023E3A0> False\n",
      "<keras.layers.core.activation.Activation object at 0x00000156C022C9A0> False\n",
      "<keras.layers.convolutional.Conv2D object at 0x00000156C022C3D0> False\n",
      "<keras.layers.normalization.batch_normalization.BatchNormalization object at 0x00000156C022C2B0> False\n",
      "<keras.layers.core.activation.Activation object at 0x00000156C0212760> False\n",
      "<keras.layers.convolutional.Conv2D object at 0x00000156BFF2E730> False\n",
      "<keras.layers.convolutional.Conv2D object at 0x00000156C023E580> False\n",
      "<keras.layers.normalization.batch_normalization.BatchNormalization object at 0x00000156BFF41FA0> False\n",
      "<keras.layers.normalization.batch_normalization.BatchNormalization object at 0x00000156C023EDF0> False\n",
      "<keras.layers.core.activation.Activation object at 0x00000156BFF2EB20> False\n",
      "<keras.layers.core.activation.Activation object at 0x00000156C0212B50> False\n",
      "<keras.layers.convolutional.Conv2D object at 0x00000156BFF483D0> False\n",
      "<keras.layers.convolutional.Conv2D object at 0x00000156BFF4A130> False\n",
      "<keras.layers.normalization.batch_normalization.BatchNormalization object at 0x00000156BFF48E80> False\n",
      "<keras.layers.normalization.batch_normalization.BatchNormalization object at 0x00000156C0226F70> False\n",
      "<keras.layers.core.activation.Activation object at 0x00000156BFF3A910> False\n",
      "<keras.layers.core.activation.Activation object at 0x00000156BFF3A9A0> False\n",
      "<keras.layers.pooling.AveragePooling2D object at 0x00000156C0245400> False\n",
      "<keras.layers.convolutional.Conv2D object at 0x00000156BFF12CD0> False\n",
      "<keras.layers.convolutional.Conv2D object at 0x00000156BFF576A0> False\n",
      "<keras.layers.convolutional.Conv2D object at 0x00000156BFE12FD0> False\n",
      "<keras.layers.convolutional.Conv2D object at 0x00000156C02455E0> False\n",
      "<keras.layers.normalization.batch_normalization.BatchNormalization object at 0x00000156BFEB2A60> False\n",
      "<keras.layers.normalization.batch_normalization.BatchNormalization object at 0x00000156BFF5CBB0> False\n",
      "<keras.layers.normalization.batch_normalization.BatchNormalization object at 0x00000156BFF238B0> False\n",
      "<keras.layers.normalization.batch_normalization.BatchNormalization object at 0x00000156C024E400> False\n",
      "<keras.layers.core.activation.Activation object at 0x00000156BFF2A0A0> False\n",
      "<keras.layers.core.activation.Activation object at 0x00000156BFF5CE50> False\n",
      "<keras.layers.core.activation.Activation object at 0x00000156BFEF5FD0> False\n",
      "<keras.layers.core.activation.Activation object at 0x00000156C02430D0> False\n",
      "<keras.layers.merge.Concatenate object at 0x00000156C024EA90> False\n",
      "<keras.layers.convolutional.Conv2D object at 0x00000156C029F6A0> False\n",
      "<keras.layers.normalization.batch_normalization.BatchNormalization object at 0x00000156C029F400> False\n",
      "<keras.layers.core.activation.Activation object at 0x00000156C02A3CD0> False\n",
      "<keras.layers.convolutional.Conv2D object at 0x00000156C02A31C0> False\n",
      "<keras.layers.normalization.batch_normalization.BatchNormalization object at 0x00000156C0255700> False\n",
      "<keras.layers.core.activation.Activation object at 0x00000156C027B820> False\n",
      "<keras.layers.convolutional.Conv2D object at 0x00000156C0263610> False\n",
      "<keras.layers.convolutional.Conv2D object at 0x00000156BFEE90D0> False\n",
      "<keras.layers.normalization.batch_normalization.BatchNormalization object at 0x00000156C027B8B0> False\n",
      "<keras.layers.normalization.batch_normalization.BatchNormalization object at 0x00000156BFEE92E0> False\n",
      "<keras.layers.core.activation.Activation object at 0x00000156C028F220> False\n",
      "<keras.layers.core.activation.Activation object at 0x00000156C026E430> False\n",
      "<keras.layers.convolutional.Conv2D object at 0x00000156C027B3D0> False\n",
      "<keras.layers.convolutional.Conv2D object at 0x00000156BFE73070> False\n",
      "<keras.layers.normalization.batch_normalization.BatchNormalization object at 0x00000156C026E940> False\n",
      "<keras.layers.normalization.batch_normalization.BatchNormalization object at 0x00000156C0245490> False\n",
      "<keras.layers.core.activation.Activation object at 0x00000156C026EDF0> False\n",
      "<keras.layers.core.activation.Activation object at 0x00000156C025BA90> False\n",
      "<keras.layers.pooling.AveragePooling2D object at 0x00000156C02B5850> False\n",
      "<keras.layers.convolutional.Conv2D object at 0x00000156BFF2EC40> False\n",
      "<keras.layers.convolutional.Conv2D object at 0x00000156C028F1F0> False\n",
      "<keras.layers.convolutional.Conv2D object at 0x00000156C02B7220> False\n",
      "<keras.layers.convolutional.Conv2D object at 0x00000156C02BD940> False\n",
      "<keras.layers.normalization.batch_normalization.BatchNormalization object at 0x00000156C0255F40> False\n",
      "<keras.layers.normalization.batch_normalization.BatchNormalization object at 0x00000156C029F880> False\n",
      "<keras.layers.normalization.batch_normalization.BatchNormalization object at 0x00000156C025BE80> False\n",
      "<keras.layers.normalization.batch_normalization.BatchNormalization object at 0x00000156C02BA8B0> False\n",
      "<keras.layers.core.activation.Activation object at 0x00000156C025BAF0> False\n",
      "<keras.layers.core.activation.Activation object at 0x00000156C02ABDC0> False\n",
      "<keras.layers.core.activation.Activation object at 0x00000156C02BAFD0> False\n",
      "<keras.layers.core.activation.Activation object at 0x00000156C02C2F40> False\n",
      "<keras.layers.merge.Concatenate object at 0x00000156C02C7610> False\n",
      "<keras.layers.convolutional.Conv2D object at 0x00000156C0310B80> False\n",
      "<keras.layers.normalization.batch_normalization.BatchNormalization object at 0x00000156C02D3340> False\n",
      "<keras.layers.core.activation.Activation object at 0x00000156C02ED730> False\n",
      "<keras.layers.convolutional.Conv2D object at 0x00000156C02ED8B0> False\n",
      "<keras.layers.normalization.batch_normalization.BatchNormalization object at 0x00000156BFF5C310> False\n",
      "<keras.layers.core.activation.Activation object at 0x00000156C02BDB20> False\n",
      "<keras.layers.convolutional.Conv2D object at 0x00000156C02C7370> False\n",
      "<keras.layers.convolutional.Conv2D object at 0x00000156C026E070> False\n",
      "<keras.layers.normalization.batch_normalization.BatchNormalization object at 0x00000156C02FB9A0> False\n",
      "<keras.layers.normalization.batch_normalization.BatchNormalization object at 0x00000156BFF4A6D0> False\n",
      "<keras.layers.core.activation.Activation object at 0x00000156C02D8BE0> False\n",
      "<keras.layers.core.activation.Activation object at 0x00000156C026E8E0> False\n",
      "<keras.layers.convolutional.Conv2D object at 0x00000156C0302F10> False\n",
      "<keras.layers.convolutional.Conv2D object at 0x00000156C0320850> False\n",
      "<keras.layers.normalization.batch_normalization.BatchNormalization object at 0x00000156C0318190> False\n",
      "<keras.layers.normalization.batch_normalization.BatchNormalization object at 0x00000156C02496D0> False\n",
      "<keras.layers.core.activation.Activation object at 0x00000156C03100A0> False\n",
      "<keras.layers.core.activation.Activation object at 0x00000156C031D8E0> False\n",
      "<keras.layers.pooling.AveragePooling2D object at 0x00000156C0339670> False\n",
      "<keras.layers.convolutional.Conv2D object at 0x00000156C025B580> False\n",
      "<keras.layers.convolutional.Conv2D object at 0x00000156C02FB130> False\n",
      "<keras.layers.convolutional.Conv2D object at 0x00000156C03288B0> False\n",
      "<keras.layers.convolutional.Conv2D object at 0x00000156C0339F10> False\n",
      "<keras.layers.normalization.batch_normalization.BatchNormalization object at 0x00000156C02C74C0> False\n",
      "<keras.layers.normalization.batch_normalization.BatchNormalization object at 0x00000156C03101F0> False\n",
      "<keras.layers.normalization.batch_normalization.BatchNormalization object at 0x00000156C02B5430> False\n",
      "<keras.layers.normalization.batch_normalization.BatchNormalization object at 0x00000156C032AFD0> False\n",
      "<keras.layers.core.activation.Activation object at 0x00000156C02D8280> False\n",
      "<keras.layers.core.activation.Activation object at 0x00000156C02F4F70> False\n",
      "<keras.layers.core.activation.Activation object at 0x00000156C03399A0> False\n",
      "<keras.layers.core.activation.Activation object at 0x00000156C0342AC0> False\n",
      "<keras.layers.merge.Concatenate object at 0x00000156C034B100> False\n",
      "<keras.layers.convolutional.Conv2D object at 0x00000156C0387B50> False\n",
      "<keras.layers.normalization.batch_normalization.BatchNormalization object at 0x00000156C02A3400> False\n",
      "<keras.layers.core.activation.Activation object at 0x00000156C0333340> False\n",
      "<keras.layers.convolutional.Conv2D object at 0x00000156C03394C0> False\n",
      "<keras.layers.normalization.batch_normalization.BatchNormalization object at 0x00000156C02B51C0> False\n",
      "<keras.layers.core.activation.Activation object at 0x00000156C0302100> False\n",
      "<keras.layers.convolutional.Conv2D object at 0x00000156C035BD60> False\n",
      "<keras.layers.convolutional.Conv2D object at 0x00000156C037D640> False\n",
      "<keras.layers.normalization.batch_normalization.BatchNormalization object at 0x00000156C0377DF0> False\n",
      "<keras.layers.normalization.batch_normalization.BatchNormalization object at 0x00000156C03943A0> False\n",
      "<keras.layers.core.activation.Activation object at 0x00000156C0387040> False\n",
      "<keras.layers.core.activation.Activation object at 0x00000156C039CD30> False\n",
      "<keras.layers.convolutional.Conv2D object at 0x00000156C0382910> False\n",
      "<keras.layers.convolutional.Conv2D object at 0x00000156C0397610> False\n",
      "<keras.layers.normalization.batch_normalization.BatchNormalization object at 0x00000156C03777F0> False\n",
      "<keras.layers.normalization.batch_normalization.BatchNormalization object at 0x00000156C0392C40> False\n",
      "<keras.layers.core.activation.Activation object at 0x00000156C036C4F0> False\n",
      "<keras.layers.core.activation.Activation object at 0x00000156C0392BE0> False\n",
      "<keras.layers.pooling.AveragePooling2D object at 0x00000156C03B9100> False\n",
      "<keras.layers.convolutional.Conv2D object at 0x00000156C02DFE20> False\n",
      "<keras.layers.convolutional.Conv2D object at 0x00000156C0382430> False\n",
      "<keras.layers.convolutional.Conv2D object at 0x00000156C0392DF0> False\n",
      "<keras.layers.convolutional.Conv2D object at 0x00000156C03C5C40> False\n",
      "<keras.layers.normalization.batch_normalization.BatchNormalization object at 0x00000156C0352D30> False\n",
      "<keras.layers.normalization.batch_normalization.BatchNormalization object at 0x00000156C0377BE0> False\n",
      "<keras.layers.normalization.batch_normalization.BatchNormalization object at 0x00000156C039CEE0> False\n",
      "<keras.layers.normalization.batch_normalization.BatchNormalization object at 0x00000156C03AA2E0> False\n",
      "<keras.layers.core.activation.Activation object at 0x00000156C0352EB0> False\n",
      "<keras.layers.core.activation.Activation object at 0x00000156C037BB80> False\n",
      "<keras.layers.core.activation.Activation object at 0x00000156C03AAFA0> False\n",
      "<keras.layers.core.activation.Activation object at 0x00000156C03BEF70> False\n",
      "<keras.layers.merge.Concatenate object at 0x00000156C03DCE50> False\n",
      "<keras.layers.convolutional.Conv2D object at 0x00000156C03A65B0> False\n",
      "<keras.layers.normalization.batch_normalization.BatchNormalization object at 0x00000156C03B3D00> False\n",
      "<keras.layers.core.activation.Activation object at 0x00000156C03EAE20> False\n",
      "<keras.layers.convolutional.Conv2D object at 0x00000156C0397910> False\n",
      "<keras.layers.normalization.batch_normalization.BatchNormalization object at 0x00000156C02B7490> False\n",
      "<keras.layers.core.activation.Activation object at 0x00000156C03EFE80> False\n",
      "<keras.layers.convolutional.Conv2D object at 0x00000156C03606D0> False\n",
      "<keras.layers.convolutional.Conv2D object at 0x00000156C037D940> False\n",
      "<keras.layers.normalization.batch_normalization.BatchNormalization object at 0x00000156C03CCA60> False\n",
      "<keras.layers.normalization.batch_normalization.BatchNormalization object at 0x00000156C03675B0> False\n",
      "<keras.layers.core.activation.Activation object at 0x00000156C03F6250> False\n",
      "<keras.layers.core.activation.Activation object at 0x00000156C0367460> False\n",
      "<keras.layers.convolutional.Conv2D object at 0x00000156C03F6E80> False\n",
      "<keras.layers.convolutional.Conv2D object at 0x00000156C03FDD60> False\n",
      "<keras.layers.normalization.batch_normalization.BatchNormalization object at 0x00000156C03F68B0> False\n",
      "<keras.layers.normalization.batch_normalization.BatchNormalization object at 0x00000156C0406CA0> False\n",
      "<keras.layers.core.activation.Activation object at 0x00000156C03DC280> False\n",
      "<keras.layers.core.activation.Activation object at 0x00000156C0406970> False\n",
      "<keras.layers.pooling.MaxPooling2D object at 0x00000156C0415BB0> False\n",
      "<keras.layers.merge.Concatenate object at 0x00000156C04159A0> False\n",
      "<keras.layers.convolutional.Conv2D object at 0x00000156C0463430> False\n",
      "<keras.layers.normalization.batch_normalization.BatchNormalization object at 0x00000156C0443790> False\n",
      "<keras.layers.core.activation.Activation object at 0x00000156C0443DF0> False\n",
      "<keras.layers.convolutional.Conv2D object at 0x00000156C042ED90> False\n",
      "<keras.layers.convolutional.Conv2D object at 0x00000156C044EDF0> False\n",
      "<keras.layers.normalization.batch_normalization.BatchNormalization object at 0x00000156C042EA00> False\n",
      "<keras.layers.normalization.batch_normalization.BatchNormalization object at 0x00000156C044E4F0> False\n",
      "<keras.layers.core.activation.Activation object at 0x00000156C0408850> False\n",
      "<keras.layers.core.activation.Activation object at 0x00000156C0457D30> False\n",
      "<keras.layers.convolutional.Conv2D object at 0x00000156C04352E0> False\n",
      "<keras.layers.convolutional.Conv2D object at 0x00000156C0443130> False\n",
      "<keras.layers.convolutional.Conv2D object at 0x00000156C0360E50> False\n",
      "<keras.layers.convolutional.Conv2D object at 0x00000156C0406820> False\n",
      "<keras.layers.pooling.AveragePooling2D object at 0x00000156C0475A00> False\n",
      "<keras.layers.convolutional.Conv2D object at 0x00000156C03DC430> False\n",
      "<keras.layers.normalization.batch_normalization.BatchNormalization object at 0x00000156C0435E20> False\n",
      "<keras.layers.normalization.batch_normalization.BatchNormalization object at 0x00000156C043CF10> False\n",
      "<keras.layers.normalization.batch_normalization.BatchNormalization object at 0x00000156C037DBB0> False\n",
      "<keras.layers.normalization.batch_normalization.BatchNormalization object at 0x00000156C039C160> False\n",
      "<keras.layers.convolutional.Conv2D object at 0x00000156C03CCCD0> False\n",
      "<keras.layers.normalization.batch_normalization.BatchNormalization object at 0x00000156C0404430> False\n",
      "<keras.layers.core.activation.Activation object at 0x00000156C0435FD0> False\n",
      "<keras.layers.core.activation.Activation object at 0x00000156C0463160> False\n",
      "<keras.layers.core.activation.Activation object at 0x00000156C0420400> False\n",
      "<keras.layers.core.activation.Activation object at 0x00000156C03B90D0> False\n",
      "<keras.layers.normalization.batch_normalization.BatchNormalization object at 0x00000156C045C460> False\n",
      "<keras.layers.core.activation.Activation object at 0x00000156C0408DF0> False\n",
      "<keras.layers.merge.Concatenate object at 0x00000156C0463B80> False\n",
      "<keras.layers.merge.Concatenate object at 0x00000156C046E910> False\n",
      "<keras.layers.core.activation.Activation object at 0x00000156C03C5730> False\n",
      "<keras.layers.merge.Concatenate object at 0x00000156C0479850> False\n",
      "<keras.layers.convolutional.Conv2D object at 0x00000156C143FFA0> False\n",
      "<keras.layers.normalization.batch_normalization.BatchNormalization object at 0x00000156C143A880> False\n",
      "<keras.layers.core.activation.Activation object at 0x00000156C1448A60> False\n",
      "<keras.layers.convolutional.Conv2D object at 0x00000156C141AA60> False\n",
      "<keras.layers.convolutional.Conv2D object at 0x00000156C14582B0> False\n",
      "<keras.layers.normalization.batch_normalization.BatchNormalization object at 0x00000156C141A820> False\n",
      "<keras.layers.normalization.batch_normalization.BatchNormalization object at 0x00000156C143F9D0> False\n",
      "<keras.layers.core.activation.Activation object at 0x00000156C141AA00> False\n",
      "<keras.layers.core.activation.Activation object at 0x00000156C143FCA0> False\n",
      "<keras.layers.convolutional.Conv2D object at 0x00000156C141A1F0> False\n",
      "<keras.layers.convolutional.Conv2D object at 0x00000156C1433520> False\n",
      "<keras.layers.convolutional.Conv2D object at 0x00000156C144F580> False\n",
      "<keras.layers.convolutional.Conv2D object at 0x00000156C142CCD0> False\n",
      "<keras.layers.pooling.AveragePooling2D object at 0x00000156C14638E0> False\n",
      "<keras.layers.convolutional.Conv2D object at 0x00000156C0472C10> False\n",
      "<keras.layers.normalization.batch_normalization.BatchNormalization object at 0x00000156C048FE50> False\n",
      "<keras.layers.normalization.batch_normalization.BatchNormalization object at 0x00000156C143FC40> False\n",
      "<keras.layers.normalization.batch_normalization.BatchNormalization object at 0x00000156C0404C10> False\n",
      "<keras.layers.normalization.batch_normalization.BatchNormalization object at 0x00000156C14488B0> False\n",
      "<keras.layers.convolutional.Conv2D object at 0x00000156C1467580> False\n",
      "<keras.layers.normalization.batch_normalization.BatchNormalization object at 0x00000156C047FC10> False\n",
      "<keras.layers.core.activation.Activation object at 0x00000156C142C970> False\n",
      "<keras.layers.core.activation.Activation object at 0x00000156C145D6D0> False\n",
      "<keras.layers.core.activation.Activation object at 0x00000156C048FB20> False\n",
      "<keras.layers.core.activation.Activation object at 0x00000156C04209A0> False\n",
      "<keras.layers.normalization.batch_normalization.BatchNormalization object at 0x00000156C147B2E0> False\n",
      "<keras.layers.core.activation.Activation object at 0x00000156C048FF70> False\n",
      "<keras.layers.merge.Concatenate object at 0x00000156C145D580> False\n",
      "<keras.layers.merge.Concatenate object at 0x00000156C1465190> False\n",
      "<keras.layers.core.activation.Activation object at 0x00000156C1465940> False\n",
      "<keras.layers.merge.Concatenate object at 0x00000156C146D6A0> False\n"
     ]
    }
   ],
   "source": [
    "for layer in inception.layers[:]:\n",
    "    layer.trainable = False\n",
    "\n",
    "for layer in inception.layers[:]:\n",
    "    print(layer, layer.trainable)"
   ]
  },
  {
   "cell_type": "code",
   "execution_count": 7,
   "metadata": {},
   "outputs": [],
   "source": [
    "model = Sequential()\n",
    "\n",
    "# inserting the conv layers on top of the base classification layer\n",
    "model.add(inception)  \n",
    "\n",
    "# creating the classification layers\n",
    "model.add(Flatten())\n",
    "model.add(Dense(units = 512, activation = 'relu', use_bias = True))\n",
    "model.add(Dense(units=1, activation = 'sigmoid'))\n",
    "\n",
    "model.compile(loss = 'binary_crossentropy', optimizer = \"adam\", metrics = ['accuracy'])"
   ]
  },
  {
   "cell_type": "code",
   "execution_count": 8,
   "metadata": {},
   "outputs": [
    {
     "name": "stdout",
     "output_type": "stream",
     "text": [
      "Model: \"sequential\"\n",
      "_________________________________________________________________\n",
      " Layer (type)                Output Shape              Param #   \n",
      "=================================================================\n",
      " inception_v3 (Functional)   (None, 5, 5, 2048)        21802784  \n",
      "                                                                 \n",
      " flatten (Flatten)           (None, 51200)             0         \n",
      "                                                                 \n",
      " dense (Dense)               (None, 512)               26214912  \n",
      "                                                                 \n",
      " dense_1 (Dense)             (None, 1)                 513       \n",
      "                                                                 \n",
      "=================================================================\n",
      "Total params: 48,018,209\n",
      "Trainable params: 26,215,425\n",
      "Non-trainable params: 21,802,784\n",
      "_________________________________________________________________\n"
     ]
    }
   ],
   "source": [
    "model.summary()"
   ]
  },
  {
   "cell_type": "code",
   "execution_count": 9,
   "metadata": {},
   "outputs": [],
   "source": [
    "Dataset = r\"C:\\Users\\Teja Nikhil\\OneDrive\\Desktop\\COVID-19_Radiography_Dataset\\covid_direc\""
   ]
  },
  {
   "cell_type": "code",
   "execution_count": 10,
   "metadata": {},
   "outputs": [
    {
     "name": "stdout",
     "output_type": "stream",
     "text": [
      "Found 5779 images belonging to 2 classes.\n",
      "Found 1444 images belonging to 2 classes.\n"
     ]
    }
   ],
   "source": [
    "train_datagen = image.ImageDataGenerator(rescale = 1./255,\n",
    "                                                                    #width_shift_range = 0.2,\n",
    "                                                                    #brightness_range = [0.2,1],\n",
    "                                                                    #horizontal_flip = True,\n",
    "                                                                    #zoom_range = 0.2,\n",
    "                                                                    validation_split=0.2)\n",
    "\n",
    "train_data = train_datagen.flow_from_directory(Dataset,\n",
    "                                                                            subset = 'training',\n",
    "                                                                            class_mode = 'binary',\n",
    "                                                                            target_size = (224, 224) \n",
    "                                                                            )\n",
    "\n",
    "validation_data =  train_datagen.flow_from_directory(Dataset,\n",
    "                                                                                     subset = 'validation',\n",
    "                                                                                     class_mode = 'binary',\n",
    "                                                                                     target_size = (224, 224)\n",
    "                                                                                     )"
   ]
  },
  {
   "cell_type": "code",
   "execution_count": 11,
   "metadata": {},
   "outputs": [
    {
     "name": "stdout",
     "output_type": "stream",
     "text": [
      "Epoch 1/20\n",
      "10/10 [==============================] - 59s 6s/step - loss: 26.4587 - accuracy: 0.5500 - val_loss: 2.0999 - val_accuracy: 0.7950\n",
      "Epoch 2/20\n",
      "10/10 [==============================] - 50s 5s/step - loss: 5.4880 - accuracy: 0.7156 - val_loss: 2.5688 - val_accuracy: 0.8276\n",
      "Epoch 3/20\n",
      "10/10 [==============================] - 50s 5s/step - loss: 3.2985 - accuracy: 0.8031 - val_loss: 3.5869 - val_accuracy: 0.8186\n",
      "Epoch 4/20\n",
      "10/10 [==============================] - 54s 6s/step - loss: 3.0042 - accuracy: 0.8219 - val_loss: 1.9777 - val_accuracy: 0.8476\n",
      "Epoch 5/20\n",
      "10/10 [==============================] - 55s 6s/step - loss: 1.3606 - accuracy: 0.8469 - val_loss: 1.3819 - val_accuracy: 0.8608\n",
      "Epoch 6/20\n",
      "10/10 [==============================] - 54s 6s/step - loss: 0.9332 - accuracy: 0.8906 - val_loss: 1.0999 - val_accuracy: 0.8670\n",
      "Epoch 7/20\n",
      "10/10 [==============================] - 53s 6s/step - loss: 0.8921 - accuracy: 0.8781 - val_loss: 0.9481 - val_accuracy: 0.8629\n",
      "Epoch 8/20\n",
      "10/10 [==============================] - 53s 6s/step - loss: 0.7537 - accuracy: 0.8969 - val_loss: 0.7041 - val_accuracy: 0.8788\n",
      "Epoch 9/20\n",
      "10/10 [==============================] - 52s 6s/step - loss: 0.9678 - accuracy: 0.8656 - val_loss: 0.6572 - val_accuracy: 0.8864\n",
      "Epoch 10/20\n",
      "10/10 [==============================] - 52s 6s/step - loss: 0.9554 - accuracy: 0.8250 - val_loss: 0.6497 - val_accuracy: 0.8781\n",
      "Epoch 11/20\n",
      "10/10 [==============================] - 52s 6s/step - loss: 1.5557 - accuracy: 0.8125 - val_loss: 3.5500 - val_accuracy: 0.6717\n",
      "Epoch 12/20\n",
      "10/10 [==============================] - 58s 6s/step - loss: 1.6315 - accuracy: 0.8156 - val_loss: 0.7673 - val_accuracy: 0.8954\n",
      "Epoch 13/20\n",
      "10/10 [==============================] - 56s 6s/step - loss: 0.5507 - accuracy: 0.8813 - val_loss: 0.7017 - val_accuracy: 0.8996\n",
      "Epoch 14/20\n",
      "10/10 [==============================] - 55s 6s/step - loss: 0.6134 - accuracy: 0.9156 - val_loss: 0.6850 - val_accuracy: 0.9086\n",
      "Epoch 15/20\n",
      "10/10 [==============================] - 55s 6s/step - loss: 0.7842 - accuracy: 0.8625 - val_loss: 1.0480 - val_accuracy: 0.8310\n",
      "Epoch 16/20\n",
      "10/10 [==============================] - 55s 6s/step - loss: 0.9074 - accuracy: 0.8375 - val_loss: 1.4439 - val_accuracy: 0.8414\n",
      "Epoch 17/20\n",
      "10/10 [==============================] - 55s 6s/step - loss: 0.8888 - accuracy: 0.8969 - val_loss: 0.5445 - val_accuracy: 0.9024\n",
      "Epoch 18/20\n",
      "10/10 [==============================] - 55s 6s/step - loss: 0.4158 - accuracy: 0.9316 - val_loss: 0.6461 - val_accuracy: 0.8899\n",
      "Epoch 19/20\n",
      "10/10 [==============================] - 55s 6s/step - loss: 0.3462 - accuracy: 0.9344 - val_loss: 0.7219 - val_accuracy: 0.8843\n",
      "Epoch 20/20\n",
      "10/10 [==============================] - 57s 6s/step - loss: 0.4385 - accuracy: 0.9062 - val_loss: 0.6809 - val_accuracy: 0.8968\n"
     ]
    }
   ],
   "source": [
    "history = model.fit(train_data, validation_data = validation_data, epochs = 20, batch_size = 32, steps_per_epoch = 10)"
   ]
  },
  {
   "cell_type": "code",
   "execution_count": 13,
   "metadata": {},
   "outputs": [
    {
     "name": "stdout",
     "output_type": "stream",
     "text": [
      "Shape of the image: (224, 224, 3)\n"
     ]
    },
    {
     "data": {
      "text/plain": [
       "array([[0.]], dtype=float32)"
      ]
     },
     "execution_count": 13,
     "metadata": {},
     "output_type": "execute_result"
    }
   ],
   "source": [
    "def read_img(img_path):\n",
    "    image = cv2.imread(img_path)\n",
    "    resized_image = cv2.resize(image, (224,224), interpolation = cv2.INTER_AREA)\n",
    "    return resized_image\n",
    "\n",
    "test_image1 = read_img(r\"C:\\Users\\Teja Nikhil\\OneDrive\\Desktop\\COVID-19_Radiography_Dataset\\Testing\\COVID-12.png\")\n",
    "print(f\"Shape of the image: {test_image1.shape}\")\n",
    "test_image1 = test_image1[np.newaxis,:,:,:]\n",
    "model.predict(test_image1)"
   ]
  },
  {
   "cell_type": "code",
   "execution_count": 14,
   "metadata": {},
   "outputs": [
    {
     "data": {
      "text/plain": [
       "array([[[0.]],\n",
       "\n",
       "       [[0.]],\n",
       "\n",
       "       [[0.]],\n",
       "\n",
       "       [[0.]],\n",
       "\n",
       "       [[0.]],\n",
       "\n",
       "       [[0.]],\n",
       "\n",
       "       [[0.]],\n",
       "\n",
       "       [[0.]],\n",
       "\n",
       "       [[0.]],\n",
       "\n",
       "       [[0.]]], dtype=float32)"
      ]
     },
     "execution_count": 14,
     "metadata": {},
     "output_type": "execute_result"
    }
   ],
   "source": [
    "Test_Dir = r\"C:\\Users\\Teja Nikhil\\OneDrive\\Desktop\\COVID-19_Radiography_Dataset\\Testing\"\n",
    "Testing_Images = os.listdir(Test_Dir)\n",
    "Predictions = []\n",
    "for i in Testing_Images:\n",
    "    direc = os.path.join(Test_Dir, i)\n",
    "    test_image = read_img(direc)\n",
    "    test_image = test_image[np.newaxis,:,:,:]\n",
    "    Predictions.append(model.predict(test_image))\n",
    "    \n",
    "preds = np.array(Predictions)\n",
    "(preds)"
   ]
  },
  {
   "cell_type": "code",
   "execution_count": 15,
   "metadata": {},
   "outputs": [
    {
     "name": "stderr",
     "output_type": "stream",
     "text": [
      "<frozen importlib._bootstrap>:219: RuntimeWarning: numpy.ufunc size changed, may indicate binary incompatibility. Expected 192 from C header, got 216 from PyObject\n",
      "<frozen importlib._bootstrap>:219: RuntimeWarning: numpy.ufunc size changed, may indicate binary incompatibility. Expected 192 from C header, got 216 from PyObject\n"
     ]
    },
    {
     "name": "stdout",
     "output_type": "stream",
     "text": [
      "Notebook running: keras  2.7.0\n"
     ]
    }
   ],
   "source": [
    "from tensorflow.keras.applications.imagenet_utils import decode_predictions\n",
    "import skimage.io \n",
    "import skimage.segmentation\n",
    "import copy\n",
    "import sklearn\n",
    "import sklearn.metrics\n",
    "import pandas as pd\n",
    "from sklearn.linear_model import LinearRegression\n",
    "import warnings\n",
    "warnings.filterwarnings(\"ignore\")\n",
    "print('Notebook running: keras ', tensorflow.keras.__version__)\n",
    "np.random.seed(222)"
   ]
  },
  {
   "cell_type": "code",
   "execution_count": 16,
   "metadata": {},
   "outputs": [],
   "source": [
    "def readImage(Image_Path):\n",
    "    image = cv2.imread(Image_Path)\n",
    "    image = cv2.cvtColor(image, cv2.COLOR_BGR2RGB)\n",
    "    image = skimage.transform.resize(image, (224 ,224)) \n",
    "    return image\n",
    "\n",
    "def draw_Img(img, title = \"Image\"):\n",
    "    plt.imshow(img)\n",
    "    plt.axis('off')\n",
    "    plt.style.use('seaborn')\n",
    "    plt.title(title+str(img.shape))\n",
    "    skimage.io.imshow(Image) \n",
    "    plt.show()\n",
    "\n",
    "def Generate_Superpixels(Image, pixel_dist):\n",
    "    superpixels = skimage.segmentation.quickshift(Image, kernel_size = 3, max_dist = pixel_dist, ratio = 0.2)\n",
    "    num_superpixels = np.unique(superpixels).shape[0]\n",
    "    print(f\"Number of Super pixels generated: {num_superpixels}\")\n",
    "    return num_superpixels, superpixels\n",
    "\n",
    "def Generate_Perturbations(num_perturbations):\n",
    "    perturbations = np.random.binomial(1, 0.5, size=(num_perturbations, num_superpixels))\n",
    "    # each row represnt each perturbation \n",
    "    # each column represent the super pixels\n",
    "    print(f\"Changes in the superpixels in each perturbations are: {len(perturbations[0])}\")\n",
    "    print(f\"Number of perturbations: {len(perturbations)}\")\n",
    "    return perturbations\n",
    "\n",
    "def perturb_Image(img, perturbation, segments):\n",
    "    active_pixels = np.where(perturbation == 1)[0]\n",
    "    mask = np.zeros(segments.shape)\n",
    "    for active in active_pixels:\n",
    "        mask[segments == active] = 1 \n",
    "    perturbed_image = copy.deepcopy(img)\n",
    "    perturbed_image = perturbed_image*mask[:,:,np.newaxis]\n",
    "    return perturbed_image\n",
    "\n",
    "def Compute_Distances(num_superpixels, perturbations):\n",
    "    original_image = np.ones(num_superpixels)[np.newaxis,:] #Perturbation with all superpixels enabled \n",
    "    distances = sklearn.metrics.pairwise_distances(perturbations,original_image, metric='cosine').ravel()\n",
    "    distances.shape\n",
    "    return distances\n",
    "\n",
    "\n",
    "def Compute_weights(distances, kernel_width):\n",
    "    weights = np.sqrt(np.exp(-(distances**2)/kernel_width**2)) #Kernel function\n",
    "    return weights\n",
    "\n",
    "def fit_weights(perturbations, predictions, weights):\n",
    "    simpler_model = LinearRegression()\n",
    "    simpler_model.fit(X=perturbations, y=predictions[:,:,0], sample_weight=weights)\n",
    "    coeff = simpler_model.coef_[0]\n",
    "    return coeff\n",
    "\n",
    "def mask_image(Image, num_superpixels, super_pixels, num_top_features, coeff):\n",
    "    top_features = np.argsort(coeff)[-num_top_features:] \n",
    "    mask = np.zeros(num_superpixels) \n",
    "    mask[top_features]= True #Activate top superpixels\n",
    "    skimage.io.imshow(perturb_Image(Image,mask,super_pixels))\n",
    "\n",
    "def url_to_image(url):\n",
    "    resp = urllib.request.urlopen(url)\n",
    "    image = np.asarray(bytearray(resp.read()), dtype=\"uint8\")\n",
    "    image = cv2.imdecode(image, cv2.IMREAD_COLOR)\n",
    "    return image"
   ]
  },
  {
   "cell_type": "code",
   "execution_count": 17,
   "metadata": {},
   "outputs": [],
   "source": [
    "Image_Path =  r\"C:\\Users\\Teja Nikhil\\OneDrive\\Desktop\\COVID-19_Radiography_Dataset\\Testing\\COVID-12.png\"\n",
    "Image = readImage(Image_Path)"
   ]
  },
  {
   "cell_type": "code",
   "execution_count": 18,
   "metadata": {},
   "outputs": [
    {
     "name": "stdout",
     "output_type": "stream",
     "text": [
      "Number of Super pixels generated: 55\n"
     ]
    },
    {
     "data": {
      "text/plain": [
       "<matplotlib.image.AxesImage at 0x156b3f8b130>"
      ]
     },
     "execution_count": 18,
     "metadata": {},
     "output_type": "execute_result"
    },
    {
     "data": {
      "image/png": "[encoded data removed]",
      "text/plain": [
       "<Figure size 432x288 with 1 Axes>"
      ]
     },
     "metadata": {
      "needs_background": "light"
     },
     "output_type": "display_data"
    }
   ],
   "source": [
    "# draw_Img(Image)\n",
    "num_superpixels , super_pixels = Generate_Superpixels(Image, 200)\n",
    "skimage.io.imshow(skimage.segmentation.mark_boundaries(Image, super_pixels))"
   ]
  },
  {
   "cell_type": "code",
   "execution_count": 19,
   "metadata": {},
   "outputs": [
    {
     "name": "stdout",
     "output_type": "stream",
     "text": [
      "Changes in the superpixels in each perturbations are: 55\n",
      "Number of perturbations: 150\n"
     ]
    },
    {
     "data": {
      "text/plain": [
       "<matplotlib.image.AxesImage at 0x15686f25b80>"
      ]
     },
     "execution_count": 19,
     "metadata": {},
     "output_type": "execute_result"
    },
    {
     "data": {
      "image/png": "[encoded data removed]",
      "text/plain": [
       "<Figure size 432x288 with 1 Axes>"
      ]
     },
     "metadata": {
      "needs_background": "light"
     },
     "output_type": "display_data"
    }
   ],
   "source": [
    "perturbations = Generate_Perturbations(150)\n",
    "skimage.io.imshow(perturb_Image(Image, perturbations[0],super_pixels))"
   ]
  },
  {
   "cell_type": "code",
   "execution_count": 20,
   "metadata": {},
   "outputs": [],
   "source": [
    "Perturbated_Df = pd.DataFrame(perturbations.flatten())\n",
    "Perturbated_Df.shape\n",
    "predictions = []"
   ]
  },
  {
   "cell_type": "code",
   "execution_count": 21,
   "metadata": {},
   "outputs": [],
   "source": [
    "for pert in perturbations:\n",
    "    perturbed_img = perturb_Image(Image,pert,super_pixels)\n",
    "    pred = model.predict(perturbed_img[np.newaxis,:,:,:])\n",
    "    predictions.append(pred)"
   ]
  },
  {
   "cell_type": "code",
   "execution_count": 22,
   "metadata": {},
   "outputs": [],
   "source": [
    "predictions = np.array(predictions)"
   ]
  },
  {
   "cell_type": "code",
   "execution_count": 23,
   "metadata": {},
   "outputs": [],
   "source": [
    "distances = Compute_Distances(num_superpixels, perturbations)\n",
    "\n",
    "weights = Compute_weights(distances, 0.25)"
   ]
  },
  {
   "cell_type": "code",
   "execution_count": 24,
   "metadata": {},
   "outputs": [],
   "source": [
    "coeffs = fit_weights(perturbations, predictions, weights)"
   ]
  },
  {
   "cell_type": "code",
   "execution_count": 25,
   "metadata": {},
   "outputs": [
    {
     "data": {
      "image/png": "[encoded data removed]",
      "text/plain": [
       "<Figure size 432x288 with 1 Axes>"
      ]
     },
     "metadata": {
      "needs_background": "light"
     },
     "output_type": "display_data"
    }
   ],
   "source": [
    "mask_image(Image, num_superpixels, super_pixels, 5, coeffs)"
   ]
  }
 ],
 "metadata": {
  "kernelspec": {
   "display_name": "Python 3",
   "language": "python",
   "name": "python3"
  },
  "language_info": {
   "codemirror_mode": {
    "name": "ipython",
    "version": 3
   },
   "file_extension": ".py",
   "mimetype": "text/x-python",
   "name": "python",
   "nbconvert_exporter": "python",
   "pygments_lexer": "ipython3",
   "version": "3.8.5"
  }
 },
 "nbformat": 4,
 "nbformat_minor": 4
}
