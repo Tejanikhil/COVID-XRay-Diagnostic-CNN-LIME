{
 "cells": [
  {
   "cell_type": "code",
   "execution_count": 1,
   "metadata": {},
   "outputs": [],
   "source": [
    "import cv2\n",
    "import tensorflow\n",
    "import tensorflow.keras\n",
    "from tensorflow.keras.models import Sequential\n",
    "from tensorflow.keras.layers import Conv2D, Flatten, Dense, MaxPooling2D, Dropout, BatchNormalization\n",
    "from tensorflow.keras.preprocessing import image\n",
    "from keras.regularizers import l2\n",
    "import os\n",
    "import matplotlib.pyplot as plt\n",
    "import random\n",
    "import shutil\n",
    "import numpy as np"
   ]
  },
  {
   "cell_type": "code",
   "execution_count": 2,
   "metadata": {},
   "outputs": [],
   "source": [
    "Dataset = r\"C:\\Users\\Teja Nikhil\\OneDrive\\Desktop\\COVID-19_Radiography_Dataset\\covid_direc\""
   ]
  },
  {
   "cell_type": "code",
   "execution_count": 3,
   "metadata": {},
   "outputs": [
    {
     "data": {
      "text/plain": [
       "3611"
      ]
     },
     "execution_count": 3,
     "metadata": {},
     "output_type": "execute_result"
    }
   ],
   "source": [
    "Dataset_covid = r\"C:\\Users\\Teja Nikhil\\OneDrive\\Desktop\\COVID-19_Radiography_Dataset\\covid_direc\\COVID\"\n",
    "covid_images = os.listdir(Dataset_covid)\n",
    "len(covid_images)"
   ]
  },
  {
   "cell_type": "code",
   "execution_count": 4,
   "metadata": {},
   "outputs": [
    {
     "data": {
      "text/plain": [
       "10192"
      ]
     },
     "execution_count": 4,
     "metadata": {},
     "output_type": "execute_result"
    }
   ],
   "source": [
    "Dataset_normal = r\"C:\\Users\\Teja Nikhil\\OneDrive\\Desktop\\COVID-19_Radiography_Dataset\\Normal\"\n",
    "normal_images = os.listdir(Dataset_normal)\n",
    "len(normal_images)"
   ]
  },
  {
   "cell_type": "markdown",
   "metadata": {},
   "source": [
    "### Scaling down the normal image dataset"
   ]
  },
  {
   "cell_type": "code",
   "execution_count": 5,
   "metadata": {},
   "outputs": [],
   "source": [
    "random.shuffle(normal_images)\n",
    "target_dir = r\"C:\\Users\\Teja Nikhil\\OneDrive\\Desktop\\COVID-19_Radiography_Dataset\\covid_direc\\Normal_1\""
   ]
  },
  {
   "cell_type": "code",
   "execution_count": 35,
   "metadata": {},
   "outputs": [],
   "source": [
    "src_dir = Dataset_normal\n",
    "for index,i in enumerate(normal_images):\n",
    "    directory = os.path.join(src_dir, i)\n",
    "    shutil.copy(directory, target_dir)\n",
    "    if(index==3616):\n",
    "        break"
   ]
  },
  {
   "cell_type": "code",
   "execution_count": null,
   "metadata": {},
   "outputs": [],
   "source": [
    "len(os.listdir(target_dir))"
   ]
  },
  {
   "cell_type": "markdown",
   "metadata": {},
   "source": [
    "### Reading all the images using image datagenerator"
   ]
  },
  {
   "cell_type": "code",
   "execution_count": 5,
   "metadata": {},
   "outputs": [
    {
     "name": "stdout",
     "output_type": "stream",
     "text": [
      "Found 5779 images belonging to 2 classes.\n",
      "Found 1444 images belonging to 2 classes.\n"
     ]
    }
   ],
   "source": [
    "train_datagen = image.ImageDataGenerator(rescale = 1./255,\n",
    "                                                                    #width_shift_range = 0.2,\n",
    "                                                                    #brightness_range = [0.2,1],\n",
    "                                                                    #horizontal_flip = True,\n",
    "                                                                    #zoom_range = 0.2,\n",
    "                                                                    validation_split=0.2)\n",
    "\n",
    "train_data = train_datagen.flow_from_directory(Dataset,\n",
    "                                                                            subset = 'training',\n",
    "                                                                            class_mode = 'binary',\n",
    "                                                                            target_size = (224, 224) \n",
    "                                                                            )\n",
    "\n",
    "validation_data =  train_datagen.flow_from_directory(Dataset,\n",
    "                                                                                     subset = 'validation',\n",
    "                                                                                     class_mode = 'binary',\n",
    "                                                                                     target_size = (224, 224)\n",
    "                                                                                     )"
   ]
  },
  {
   "cell_type": "code",
   "execution_count": 6,
   "metadata": {},
   "outputs": [
    {
     "data": {
      "text/plain": [
       "{'COVID': 0, 'Normal_1': 1}"
      ]
     },
     "execution_count": 6,
     "metadata": {},
     "output_type": "execute_result"
    }
   ],
   "source": [
    "train_data.class_indices"
   ]
  },
  {
   "cell_type": "markdown",
   "metadata": {},
   "source": [
    "### Creating model Architecture"
   ]
  },
  {
   "cell_type": "markdown",
   "metadata": {},
   "source": [
    "**Unfortunately, there is no magical formula to determine the right size or architecture of your model (in terms of the number of layers, or the right size for each layer). You will have to experiment using a series of different architectures.**"
   ]
  },
  {
   "cell_type": "code",
   "execution_count": 10,
   "metadata": {},
   "outputs": [],
   "source": [
    "model = Sequential()\n",
    "\n",
    "model.add(Conv2D(32, kernel_size=(3,3), padding='same', activation='relu', input_shape=(224,224,3)))\n",
    "model.add(MaxPooling2D(pool_size=(2,2)))\n",
    "\n",
    "model.add(Conv2D(64, kernel_size=(3,3), padding='same', activation='relu'))\n",
    "model.add(MaxPooling2D(pool_size=(2,2)))\n",
    "\n",
    "model.add(Conv2D(128, kernel_size=(3,3), activation='relu'))\n",
    "model.add(MaxPooling2D(pool_size=(2,2)))\n",
    "\n",
    "model.add(Conv2D(256, kernel_size=(3,3), activation='relu'))\n",
    "model.add(MaxPooling2D(pool_size=(2,2)))\n",
    "\n",
    "model.add(Flatten())\n",
    "model.add(Dense(512, activation='relu'))\n",
    "model.add(Dense(1, activation='sigmoid'))\n",
    "\n",
    "model.compile(optimizer='adam', loss='binary_crossentropy', metrics=['accuracy'])"
   ]
  },
  {
   "cell_type": "markdown",
   "metadata": {},
   "source": [
    "### Plotting the model"
   ]
  },
  {
   "cell_type": "code",
   "execution_count": 8,
   "metadata": {},
   "outputs": [
    {
     "name": "stdout",
     "output_type": "stream",
     "text": [
      "Model: \"sequential\"\n",
      "_________________________________________________________________\n",
      " Layer (type)                Output Shape              Param #   \n",
      "=================================================================\n",
      " conv2d (Conv2D)             (None, 224, 224, 32)      896       \n",
      "                                                                 \n",
      " max_pooling2d (MaxPooling2D  (None, 112, 112, 32)     0         \n",
      " )                                                               \n",
      "                                                                 \n",
      " conv2d_1 (Conv2D)           (None, 112, 112, 64)      18496     \n",
      "                                                                 \n",
      " max_pooling2d_1 (MaxPooling  (None, 56, 56, 64)       0         \n",
      " 2D)                                                             \n",
      "                                                                 \n",
      " conv2d_2 (Conv2D)           (None, 54, 54, 128)       73856     \n",
      "                                                                 \n",
      " max_pooling2d_2 (MaxPooling  (None, 27, 27, 128)      0         \n",
      " 2D)                                                             \n",
      "                                                                 \n",
      " conv2d_3 (Conv2D)           (None, 25, 25, 256)       295168    \n",
      "                                                                 \n",
      " max_pooling2d_3 (MaxPooling  (None, 12, 12, 256)      0         \n",
      " 2D)                                                             \n",
      "                                                                 \n",
      " flatten (Flatten)           (None, 36864)             0         \n",
      "                                                                 \n",
      " dense (Dense)               (None, 512)               18874880  \n",
      "                                                                 \n",
      " dense_1 (Dense)             (None, 1)                 513       \n",
      "                                                                 \n",
      "=================================================================\n",
      "Total params: 19,263,809\n",
      "Trainable params: 19,263,809\n",
      "Non-trainable params: 0\n",
      "_________________________________________________________________\n"
     ]
    }
   ],
   "source": [
    "model.summary()"
   ]
  },
  {
   "cell_type": "markdown",
   "metadata": {},
   "source": [
    "### Model training"
   ]
  },
  {
   "cell_type": "code",
   "execution_count": 61,
   "metadata": {},
   "outputs": [],
   "source": [
    "learning_rate = tf.keras.callbacks.ReduceLROnPlateau(monitor='val_accuracy', factor=0.2, patience=5, min_lr=0.001)"
   ]
  },
  {
   "cell_type": "code",
   "execution_count": null,
   "metadata": {},
   "outputs": [],
   "source": [
    "history = model.fit(train_data, validation_data = validation_data, epochs = 30, batch_size = 32, steps_per_epoch = 10)"
   ]
  },
  {
   "cell_type": "code",
   "execution_count": 32,
   "metadata": {},
   "outputs": [],
   "source": [
    "model_json = model.to_json()\n",
    "with open(\"covid_cnn1.json\", \"w\") as json_file:\n",
    "    json_file.write(model_json)\n",
    "# serialize weights to HDF5\n",
    "model.save_weights(\"covid_cnn1.h5\")"
   ]
  },
  {
   "cell_type": "markdown",
   "metadata": {},
   "source": [
    "### Loading Model Weights"
   ]
  },
  {
   "cell_type": "code",
   "execution_count": 11,
   "metadata": {},
   "outputs": [],
   "source": [
    "model.load_weights(\"covid_cnn1.h5\")"
   ]
  },
  {
   "cell_type": "markdown",
   "metadata": {},
   "source": [
    "### Model Testing"
   ]
  },
  {
   "cell_type": "code",
   "execution_count": 12,
   "metadata": {},
   "outputs": [
    {
     "name": "stdout",
     "output_type": "stream",
     "text": [
      "Shape of the image: (224, 224, 3)\n"
     ]
    },
    {
     "data": {
      "text/plain": [
       "array([[0.]], dtype=float32)"
      ]
     },
     "execution_count": 12,
     "metadata": {},
     "output_type": "execute_result"
    }
   ],
   "source": [
    "def read_img(img_path):\n",
    "    image = cv2.imread(img_path)\n",
    "    resized_image = cv2.resize(image, (224,224), interpolation = cv2.INTER_AREA)\n",
    "    return resized_image\n",
    "\n",
    "test_image1 = read_img(r\"C:\\Users\\Teja Nikhil\\OneDrive\\Desktop\\Test1.png\")\n",
    "print(f\"Shape of the image: {test_image1.shape}\")\n",
    "\n",
    "test_image1 = test_image1[np.newaxis,:,:,:]\n",
    "model.predict(test_image1)"
   ]
  },
  {
   "cell_type": "code",
   "execution_count": 10,
   "metadata": {},
   "outputs": [
    {
     "data": {
      "text/plain": [
       "[[array([0.], dtype=float32)],\n",
       " [array([0.], dtype=float32)],\n",
       " [array([0.], dtype=float32)],\n",
       " [array([0.], dtype=float32)],\n",
       " [array([0.], dtype=float32)],\n",
       " [array([0.], dtype=float32)],\n",
       " [array([0.], dtype=float32)],\n",
       " [array([0.], dtype=float32)],\n",
       " [array([0.], dtype=float32)],\n",
       " [array([0.], dtype=float32)],\n",
       " [array([0.], dtype=float32)],\n",
       " [array([0.], dtype=float32)],\n",
       " [array([3.694413e-34], dtype=float32)],\n",
       " [array([0.], dtype=float32)],\n",
       " [array([0.], dtype=float32)],\n",
       " [array([0.], dtype=float32)],\n",
       " [array([0.], dtype=float32)],\n",
       " [array([0.], dtype=float32)],\n",
       " [array([0.], dtype=float32)],\n",
       " [array([0.], dtype=float32)],\n",
       " [array([0.], dtype=float32)],\n",
       " [array([0.], dtype=float32)],\n",
       " [array([1.], dtype=float32)],\n",
       " [array([0.], dtype=float32)],\n",
       " [array([0.], dtype=float32)],\n",
       " [array([1.], dtype=float32)],\n",
       " [array([1.], dtype=float32)],\n",
       " [array([0.], dtype=float32)],\n",
       " [array([0.], dtype=float32)],\n",
       " [array([1.], dtype=float32)],\n",
       " [array([0.], dtype=float32)],\n",
       " [array([0.], dtype=float32)],\n",
       " [array([0.], dtype=float32)],\n",
       " [array([0.], dtype=float32)],\n",
       " [array([0.], dtype=float32)],\n",
       " [array([1.], dtype=float32)],\n",
       " [array([1.], dtype=float32)],\n",
       " [array([1.], dtype=float32)],\n",
       " [array([0.], dtype=float32)],\n",
       " [array([0.], dtype=float32)],\n",
       " [array([0.], dtype=float32)],\n",
       " [array([0.], dtype=float32)],\n",
       " [array([0.], dtype=float32)],\n",
       " [array([0.], dtype=float32)],\n",
       " [array([0.], dtype=float32)],\n",
       " [array([0.], dtype=float32)],\n",
       " [array([0.], dtype=float32)],\n",
       " [array([0.], dtype=float32)],\n",
       " [array([0.], dtype=float32)],\n",
       " [array([0.], dtype=float32)],\n",
       " [array([0.], dtype=float32)],\n",
       " [array([0.], dtype=float32)],\n",
       " [array([0.], dtype=float32)],\n",
       " [array([0.], dtype=float32)],\n",
       " [array([1.], dtype=float32)],\n",
       " [array([0.], dtype=float32)],\n",
       " [array([1.6390995e-25], dtype=float32)],\n",
       " [array([0.], dtype=float32)],\n",
       " [array([1.], dtype=float32)],\n",
       " [array([0.], dtype=float32)],\n",
       " [array([0.], dtype=float32)],\n",
       " [array([0.], dtype=float32)],\n",
       " [array([0.], dtype=float32)],\n",
       " [array([0.], dtype=float32)],\n",
       " [array([1.], dtype=float32)],\n",
       " [array([1.], dtype=float32)],\n",
       " [array([0.], dtype=float32)],\n",
       " [array([0.], dtype=float32)],\n",
       " [array([1.], dtype=float32)],\n",
       " [array([0.], dtype=float32)],\n",
       " [array([0.], dtype=float32)],\n",
       " [array([0.], dtype=float32)],\n",
       " [array([0.], dtype=float32)],\n",
       " [array([1.], dtype=float32)],\n",
       " [array([0.], dtype=float32)],\n",
       " [array([0.], dtype=float32)],\n",
       " [array([0.], dtype=float32)],\n",
       " [array([0.], dtype=float32)],\n",
       " [array([0.], dtype=float32)],\n",
       " [array([1.], dtype=float32)],\n",
       " [array([0.], dtype=float32)],\n",
       " [array([0.], dtype=float32)],\n",
       " [array([0.], dtype=float32)],\n",
       " [array([1.], dtype=float32)],\n",
       " [array([1.], dtype=float32)],\n",
       " [array([1.], dtype=float32)],\n",
       " [array([0.], dtype=float32)],\n",
       " [array([0.], dtype=float32)],\n",
       " [array([0.], dtype=float32)],\n",
       " [array([0.], dtype=float32)],\n",
       " [array([3.672809e-15], dtype=float32)],\n",
       " [array([1.], dtype=float32)],\n",
       " [array([0.], dtype=float32)],\n",
       " [array([0.], dtype=float32)],\n",
       " [array([0.], dtype=float32)],\n",
       " [array([1.], dtype=float32)],\n",
       " [array([0.], dtype=float32)],\n",
       " [array([0.], dtype=float32)],\n",
       " [array([1.], dtype=float32)],\n",
       " [array([0.], dtype=float32)],\n",
       " [array([0.], dtype=float32)],\n",
       " [array([0.], dtype=float32)],\n",
       " [array([0.], dtype=float32)],\n",
       " [array([1.], dtype=float32)],\n",
       " [array([0.], dtype=float32)],\n",
       " [array([5.998996e-29], dtype=float32)],\n",
       " [array([0.], dtype=float32)],\n",
       " [array([0.], dtype=float32)],\n",
       " [array([1.0175202e-11], dtype=float32)],\n",
       " [array([0.], dtype=float32)],\n",
       " [array([1.], dtype=float32)],\n",
       " [array([1.], dtype=float32)],\n",
       " [array([1.], dtype=float32)],\n",
       " [array([1.], dtype=float32)],\n",
       " [array([1.], dtype=float32)],\n",
       " [array([0.], dtype=float32)],\n",
       " [array([1.], dtype=float32)],\n",
       " [array([0.], dtype=float32)],\n",
       " [array([0.], dtype=float32)],\n",
       " [array([1.], dtype=float32)],\n",
       " [array([0.], dtype=float32)],\n",
       " [array([0.], dtype=float32)],\n",
       " [array([1.], dtype=float32)],\n",
       " [array([0.], dtype=float32)],\n",
       " [array([0.], dtype=float32)],\n",
       " [array([0.], dtype=float32)],\n",
       " [array([0.], dtype=float32)],\n",
       " [array([0.], dtype=float32)],\n",
       " [array([0.], dtype=float32)],\n",
       " [array([1.], dtype=float32)],\n",
       " [array([1.], dtype=float32)],\n",
       " [array([1.], dtype=float32)],\n",
       " [array([0.], dtype=float32)],\n",
       " [array([0.], dtype=float32)],\n",
       " [array([0.], dtype=float32)],\n",
       " [array([0.], dtype=float32)],\n",
       " [array([1.], dtype=float32)],\n",
       " [array([0.], dtype=float32)],\n",
       " [array([0.], dtype=float32)],\n",
       " [array([0.], dtype=float32)],\n",
       " [array([0.], dtype=float32)],\n",
       " [array([0.], dtype=float32)],\n",
       " [array([0.], dtype=float32)],\n",
       " [array([0.], dtype=float32)],\n",
       " [array([0.], dtype=float32)],\n",
       " [array([0.], dtype=float32)],\n",
       " [array([0.], dtype=float32)],\n",
       " [array([1.], dtype=float32)],\n",
       " [array([0.], dtype=float32)],\n",
       " [array([0.], dtype=float32)],\n",
       " [array([1.], dtype=float32)],\n",
       " [array([0.], dtype=float32)],\n",
       " [array([0.], dtype=float32)],\n",
       " [array([0.], dtype=float32)],\n",
       " [array([0.], dtype=float32)],\n",
       " [array([0.], dtype=float32)],\n",
       " [array([6.345339e-31], dtype=float32)],\n",
       " [array([1.4511242e-20], dtype=float32)],\n",
       " [array([1.], dtype=float32)],\n",
       " [array([0.], dtype=float32)],\n",
       " [array([0.], dtype=float32)],\n",
       " [array([0.], dtype=float32)],\n",
       " [array([0.], dtype=float32)],\n",
       " [array([0.], dtype=float32)],\n",
       " [array([0.], dtype=float32)],\n",
       " [array([0.], dtype=float32)],\n",
       " [array([0.], dtype=float32)],\n",
       " [array([0.], dtype=float32)],\n",
       " [array([0.], dtype=float32)],\n",
       " [array([0.], dtype=float32)],\n",
       " [array([0.], dtype=float32)],\n",
       " [array([0.], dtype=float32)],\n",
       " [array([1.], dtype=float32)],\n",
       " [array([1.], dtype=float32)],\n",
       " [array([7.293297e-11], dtype=float32)],\n",
       " [array([0.], dtype=float32)],\n",
       " [array([0.], dtype=float32)],\n",
       " [array([0.], dtype=float32)],\n",
       " [array([0.], dtype=float32)],\n",
       " [array([0.], dtype=float32)],\n",
       " [array([0.], dtype=float32)],\n",
       " [array([0.], dtype=float32)],\n",
       " [array([0.], dtype=float32)],\n",
       " [array([0.], dtype=float32)],\n",
       " [array([1.], dtype=float32)],\n",
       " [array([0.], dtype=float32)],\n",
       " [array([0.], dtype=float32)],\n",
       " [array([0.], dtype=float32)],\n",
       " [array([0.], dtype=float32)],\n",
       " [array([0.], dtype=float32)],\n",
       " [array([0.], dtype=float32)]]"
      ]
     },
     "execution_count": 10,
     "metadata": {},
     "output_type": "execute_result"
    }
   ],
   "source": [
    "Test_Dir = r\"C:\\Users\\Teja Nikhil\\Semester - III\\Covid Diagnostics_ICS Endsem\\Train CXR\\Positive CXR\"\n",
    "Testing_Images = os.listdir(Test_Dir)\n",
    "Predictions = []\n",
    "for i in Testing_Images:\n",
    "    direc = os.path.join(Test_Dir, i)\n",
    "    test_image = read_img(direc)\n",
    "    test_image = test_image[np.newaxis,:,:,:]\n",
    "    Predictions.append(list(model.predict(test_image)))\n",
    "\n",
    "Predictions"
   ]
  },
  {
   "cell_type": "code",
   "execution_count": 11,
   "metadata": {},
   "outputs": [
    {
     "data": {
      "text/plain": [
       "[array([0.], dtype=float32)]"
      ]
     },
     "execution_count": 11,
     "metadata": {},
     "output_type": "execute_result"
    }
   ],
   "source": [
    "Predictions[0]"
   ]
  },
  {
   "cell_type": "code",
   "execution_count": 12,
   "metadata": {},
   "outputs": [
    {
     "data": {
      "text/plain": [
       "[[array([1.], dtype=float32)],\n",
       " [array([1.], dtype=float32)],\n",
       " [array([1.], dtype=float32)],\n",
       " [array([1.], dtype=float32)],\n",
       " [array([1.], dtype=float32)],\n",
       " [array([1.], dtype=float32)],\n",
       " [array([1.], dtype=float32)],\n",
       " [array([1.], dtype=float32)],\n",
       " [array([1.], dtype=float32)],\n",
       " [array([0.], dtype=float32)],\n",
       " [array([1.], dtype=float32)],\n",
       " [array([1.], dtype=float32)],\n",
       " [array([1.], dtype=float32)],\n",
       " [array([1.], dtype=float32)],\n",
       " [array([1.], dtype=float32)],\n",
       " [array([1.], dtype=float32)],\n",
       " [array([1.], dtype=float32)],\n",
       " [array([1.], dtype=float32)],\n",
       " [array([1.], dtype=float32)],\n",
       " [array([1.], dtype=float32)],\n",
       " [array([1.], dtype=float32)],\n",
       " [array([1.], dtype=float32)],\n",
       " [array([1.], dtype=float32)],\n",
       " [array([1.], dtype=float32)],\n",
       " [array([1.], dtype=float32)],\n",
       " [array([1.], dtype=float32)],\n",
       " [array([1.], dtype=float32)],\n",
       " [array([1.], dtype=float32)],\n",
       " [array([1.], dtype=float32)],\n",
       " [array([1.], dtype=float32)],\n",
       " [array([0.], dtype=float32)],\n",
       " [array([1.], dtype=float32)],\n",
       " [array([1.], dtype=float32)],\n",
       " [array([1.], dtype=float32)],\n",
       " [array([1.], dtype=float32)],\n",
       " [array([1.], dtype=float32)],\n",
       " [array([1.], dtype=float32)],\n",
       " [array([1.], dtype=float32)],\n",
       " [array([1.], dtype=float32)],\n",
       " [array([1.], dtype=float32)],\n",
       " [array([1.], dtype=float32)],\n",
       " [array([1.], dtype=float32)],\n",
       " [array([1.], dtype=float32)],\n",
       " [array([1.], dtype=float32)],\n",
       " [array([1.], dtype=float32)],\n",
       " [array([1.], dtype=float32)],\n",
       " [array([0.], dtype=float32)],\n",
       " [array([1.], dtype=float32)],\n",
       " [array([1.], dtype=float32)],\n",
       " [array([1.], dtype=float32)],\n",
       " [array([1.], dtype=float32)],\n",
       " [array([1.], dtype=float32)],\n",
       " [array([1.], dtype=float32)],\n",
       " [array([1.], dtype=float32)],\n",
       " [array([1.], dtype=float32)],\n",
       " [array([1.], dtype=float32)],\n",
       " [array([1.], dtype=float32)],\n",
       " [array([1.], dtype=float32)],\n",
       " [array([1.], dtype=float32)],\n",
       " [array([1.], dtype=float32)],\n",
       " [array([1.], dtype=float32)],\n",
       " [array([1.], dtype=float32)],\n",
       " [array([1.], dtype=float32)],\n",
       " [array([1.], dtype=float32)],\n",
       " [array([1.], dtype=float32)],\n",
       " [array([1.], dtype=float32)],\n",
       " [array([1.], dtype=float32)],\n",
       " [array([1.], dtype=float32)],\n",
       " [array([1.], dtype=float32)],\n",
       " [array([1.], dtype=float32)],\n",
       " [array([1.], dtype=float32)],\n",
       " [array([1.], dtype=float32)],\n",
       " [array([1.], dtype=float32)],\n",
       " [array([1.], dtype=float32)],\n",
       " [array([1.], dtype=float32)],\n",
       " [array([1.], dtype=float32)],\n",
       " [array([1.], dtype=float32)],\n",
       " [array([1.], dtype=float32)],\n",
       " [array([0.], dtype=float32)],\n",
       " [array([3.4801133e-07], dtype=float32)],\n",
       " [array([1.], dtype=float32)],\n",
       " [array([1.], dtype=float32)],\n",
       " [array([1.], dtype=float32)],\n",
       " [array([1.], dtype=float32)],\n",
       " [array([1.], dtype=float32)],\n",
       " [array([1.], dtype=float32)],\n",
       " [array([1.], dtype=float32)],\n",
       " [array([1.], dtype=float32)],\n",
       " [array([1.], dtype=float32)],\n",
       " [array([1.], dtype=float32)],\n",
       " [array([1.], dtype=float32)],\n",
       " [array([1.], dtype=float32)],\n",
       " [array([1.], dtype=float32)],\n",
       " [array([1.], dtype=float32)],\n",
       " [array([1.], dtype=float32)],\n",
       " [array([1.], dtype=float32)],\n",
       " [array([1.], dtype=float32)],\n",
       " [array([1.], dtype=float32)],\n",
       " [array([1.], dtype=float32)],\n",
       " [array([1.], dtype=float32)],\n",
       " [array([1.], dtype=float32)],\n",
       " [array([1.], dtype=float32)],\n",
       " [array([1.], dtype=float32)],\n",
       " [array([1.], dtype=float32)],\n",
       " [array([1.], dtype=float32)],\n",
       " [array([1.], dtype=float32)],\n",
       " [array([1.], dtype=float32)],\n",
       " [array([1.], dtype=float32)],\n",
       " [array([1.], dtype=float32)],\n",
       " [array([1.], dtype=float32)],\n",
       " [array([1.], dtype=float32)],\n",
       " [array([1.], dtype=float32)],\n",
       " [array([1.], dtype=float32)],\n",
       " [array([1.], dtype=float32)],\n",
       " [array([1.], dtype=float32)],\n",
       " [array([1.], dtype=float32)],\n",
       " [array([1.], dtype=float32)],\n",
       " [array([1.], dtype=float32)],\n",
       " [array([1.], dtype=float32)],\n",
       " [array([1.], dtype=float32)],\n",
       " [array([1.], dtype=float32)],\n",
       " [array([1.], dtype=float32)],\n",
       " [array([1.], dtype=float32)],\n",
       " [array([1.], dtype=float32)],\n",
       " [array([1.], dtype=float32)],\n",
       " [array([1.], dtype=float32)],\n",
       " [array([1.], dtype=float32)],\n",
       " [array([1.], dtype=float32)],\n",
       " [array([1.], dtype=float32)],\n",
       " [array([1.], dtype=float32)],\n",
       " [array([1.], dtype=float32)],\n",
       " [array([1.], dtype=float32)],\n",
       " [array([1.], dtype=float32)],\n",
       " [array([1.], dtype=float32)],\n",
       " [array([1.], dtype=float32)],\n",
       " [array([1.], dtype=float32)],\n",
       " [array([1.], dtype=float32)],\n",
       " [array([1.], dtype=float32)],\n",
       " [array([1.], dtype=float32)],\n",
       " [array([1.], dtype=float32)],\n",
       " [array([1.], dtype=float32)],\n",
       " [array([1.], dtype=float32)],\n",
       " [array([1.], dtype=float32)],\n",
       " [array([1.], dtype=float32)],\n",
       " [array([1.], dtype=float32)],\n",
       " [array([1.], dtype=float32)],\n",
       " [array([1.], dtype=float32)],\n",
       " [array([1.], dtype=float32)],\n",
       " [array([1.], dtype=float32)],\n",
       " [array([1.], dtype=float32)],\n",
       " [array([1.], dtype=float32)],\n",
       " [array([1.], dtype=float32)],\n",
       " [array([0.], dtype=float32)],\n",
       " [array([1.], dtype=float32)],\n",
       " [array([1.], dtype=float32)],\n",
       " [array([1.], dtype=float32)],\n",
       " [array([1.], dtype=float32)],\n",
       " [array([0.], dtype=float32)],\n",
       " [array([1.], dtype=float32)],\n",
       " [array([1.], dtype=float32)],\n",
       " [array([1.], dtype=float32)],\n",
       " [array([1.], dtype=float32)],\n",
       " [array([1.], dtype=float32)],\n",
       " [array([1.], dtype=float32)],\n",
       " [array([1.], dtype=float32)],\n",
       " [array([1.], dtype=float32)],\n",
       " [array([1.], dtype=float32)],\n",
       " [array([1.], dtype=float32)],\n",
       " [array([1.], dtype=float32)],\n",
       " [array([1.], dtype=float32)],\n",
       " [array([1.], dtype=float32)],\n",
       " [array([1.], dtype=float32)],\n",
       " [array([1.], dtype=float32)],\n",
       " [array([1.], dtype=float32)],\n",
       " [array([1.], dtype=float32)],\n",
       " [array([1.], dtype=float32)],\n",
       " [array([1.], dtype=float32)],\n",
       " [array([1.], dtype=float32)],\n",
       " [array([1.], dtype=float32)],\n",
       " [array([0.], dtype=float32)],\n",
       " [array([1.], dtype=float32)],\n",
       " [array([1.], dtype=float32)],\n",
       " [array([1.], dtype=float32)],\n",
       " [array([1.], dtype=float32)],\n",
       " [array([1.], dtype=float32)],\n",
       " [array([1.], dtype=float32)],\n",
       " [array([1.], dtype=float32)],\n",
       " [array([1.], dtype=float32)],\n",
       " [array([1.], dtype=float32)],\n",
       " [array([1.], dtype=float32)],\n",
       " [array([1.], dtype=float32)]]"
      ]
     },
     "execution_count": 12,
     "metadata": {},
     "output_type": "execute_result"
    }
   ],
   "source": [
    "Test_Dir = r\"C:\\Users\\Teja Nikhil\\Semester - III\\Covid Diagnostics_ICS Endsem\\Train CXR\\Negative CXR\"\n",
    "Testing_Images = os.listdir(Test_Dir)\n",
    "Predictions = []\n",
    "for i in Testing_Images:\n",
    "    direc = os.path.join(Test_Dir, i)\n",
    "    test_image = read_img(direc)\n",
    "    test_image = test_image[np.newaxis,:,:,:]\n",
    "    Predictions.append(list(model.predict(test_image)))\n",
    "    \n",
    "list(Predictions)"
   ]
  },
  {
   "cell_type": "code",
   "execution_count": 13,
   "metadata": {},
   "outputs": [],
   "source": [
    "import lime\n",
    "from lime import lime_image\n",
    "from skimage.segmentation import mark_boundaries\n",
    "import matplotlib.pyplot as plt\n",
    "import random\n",
    "import numpy as np"
   ]
  },
  {
   "cell_type": "markdown",
   "metadata": {},
   "source": [
    "### Applying Lime Explainability to the cnn model"
   ]
  },
  {
   "cell_type": "markdown",
   "metadata": {},
   "source": [
    "* **Image Reading**\n",
    "* **Generating Super pixels**\n",
    "* **Generating Perturbations**\n",
    "* **Making predictions**\n",
    "* **Compute distance and weights**\n",
    "* **Fitting a Linear regression**\n",
    "* **Generating the mask**"
   ]
  },
  {
   "cell_type": "code",
   "execution_count": 15,
   "metadata": {},
   "outputs": [
    {
     "name": "stdout",
     "output_type": "stream",
     "text": [
      "Notebook running: keras  2.7.0\n"
     ]
    }
   ],
   "source": [
    "from tensorflow.keras.applications.imagenet_utils import decode_predictions\n",
    "import skimage.io \n",
    "import skimage.segmentation\n",
    "import copy\n",
    "import sklearn\n",
    "import sklearn.metrics\n",
    "import pandas as pd\n",
    "from sklearn.linear_model import LinearRegression\n",
    "import warnings\n",
    "import urllib\n",
    "warnings.filterwarnings(\"ignore\")\n",
    "print('Notebook running: keras ', tensorflow.keras.__version__)\n",
    "np.random.seed(222)"
   ]
  },
  {
   "cell_type": "code",
   "execution_count": 16,
   "metadata": {},
   "outputs": [],
   "source": [
    "def readImage(Image_Path):\n",
    "    image = cv2.imread(Image_Path)\n",
    "    image = cv2.cvtColor(image, cv2.COLOR_BGR2RGB)\n",
    "    image = skimage.transform.resize(image, (224 ,224)) \n",
    "    return image\n",
    "\n",
    "def draw_Img(img, title = \"Image\"):\n",
    "    plt.imshow(img)\n",
    "    plt.axis('off')\n",
    "    plt.style.use('seaborn')\n",
    "    plt.title(title+str(img.shape))\n",
    "    skimage.io.imshow(Image) \n",
    "    plt.show()\n",
    "\n",
    "def Generate_Superpixels(Image, pixel_dist):\n",
    "    superpixels = skimage.segmentation.quickshift(Image, kernel_size = 3, max_dist = pixel_dist, ratio = 0.2)\n",
    "    num_superpixels = np.unique(superpixels).shape[0]\n",
    "    print(f\"Number of Super pixels generated: {num_superpixels}\")\n",
    "    return num_superpixels, superpixels\n",
    "\n",
    "def Generate_Perturbations(num_perturbations):\n",
    "    perturbations = np.random.binomial(1, 0.5, size=(num_perturbations, num_superpixels))\n",
    "    # each row represnt each perturbation \n",
    "    # each column represent the super pixels\n",
    "    print(f\"Changes in the superpixels in each perturbations are: {len(perturbations[0])}\")\n",
    "    print(f\"Number of perturbations: {len(perturbations)}\")\n",
    "    return perturbations\n",
    "\n",
    "def perturb_Image(img, perturbation, segments):\n",
    "    active_pixels = np.where(perturbation == 1)[0]\n",
    "    mask = np.zeros(segments.shape)\n",
    "    for active in active_pixels:\n",
    "        mask[segments == active] = 1 \n",
    "    perturbed_image = copy.deepcopy(img)\n",
    "    perturbed_image = perturbed_image*mask[:,:,np.newaxis]\n",
    "    return perturbed_image\n",
    "\n",
    "def Compute_Distances(num_superpixels, perturbations):\n",
    "    original_image = np.ones(num_superpixels)[np.newaxis,:] #Perturbation with all superpixels enabled \n",
    "    distances = sklearn.metrics.pairwise_distances(perturbations,original_image, metric='cosine').ravel()\n",
    "    distances.shape\n",
    "    return distances\n",
    "\n",
    "\n",
    "def Compute_weights(distances, kernel_width):\n",
    "    weights = np.sqrt(np.exp(-(distances**2)/kernel_width**2)) #Kernel function\n",
    "    return weights\n",
    "\n",
    "def fit_weights(perturbations, predictions, weights):\n",
    "    simpler_model = LinearRegression()\n",
    "    simpler_model.fit(X=perturbations, y=predictions[:,:,0], sample_weight=weights)\n",
    "    coeff = simpler_model.coef_[0]\n",
    "    return coeff\n",
    "\n",
    "def mask_image(Image, num_superpixels, super_pixels, num_top_features, coeff):\n",
    "    top_features = np.argsort(coeff)[-num_top_features:] \n",
    "    mask = np.zeros(num_superpixels) \n",
    "    mask[top_features]= True #Activate top superpixels\n",
    "    skimage.io.imshow(perturb_Image(Image,mask,super_pixels))\n",
    "\n",
    "def url_to_image(url):\n",
    "    resp = urllib.request.urlopen(url)\n",
    "    image = np.asarray(bytearray(resp.read()), dtype=\"uint8\")\n",
    "    image = cv2.imdecode(image, cv2.IMREAD_COLOR)\n",
    "    return image"
   ]
  },
  {
   "cell_type": "markdown",
   "metadata": {},
   "source": [
    "#### Image Reading"
   ]
  },
  {
   "cell_type": "code",
   "execution_count": 23,
   "metadata": {},
   "outputs": [
    {
     "data": {
      "text/plain": [
       "<matplotlib.image.AxesImage at 0x22790bfba90>"
      ]
     },
     "execution_count": 23,
     "metadata": {},
     "output_type": "execute_result"
    },
    {
     "data": {
      "image/png": "[encoded data removed]",
      "text/plain": [
       "<Figure size 432x288 with 1 Axes>"
      ]
     },
     "metadata": {
      "needs_background": "light"
     },
     "output_type": "display_data"
    }
   ],
   "source": [
    "# Image_Path =  r\"C:\\Users\\Teja Nikhil\\OneDrive\\Desktop\\COVID-19_Radiography_Dataset\\Testing\\COVID-22.png\"\n",
    "Image_Path = r\"C:\\Users\\Teja Nikhil\\OneDrive\\Desktop\\Test1.png\"\n",
    "Image = readImage(Image_Path)\n",
    "plt.imshow(Image)"
   ]
  },
  {
   "cell_type": "code",
   "execution_count": 24,
   "metadata": {},
   "outputs": [
    {
     "data": {
      "text/plain": [
       "array([[0.08401611]], dtype=float32)"
      ]
     },
     "execution_count": 24,
     "metadata": {},
     "output_type": "execute_result"
    }
   ],
   "source": [
    "model.predict(Image[np.newaxis,:,:,:])"
   ]
  },
  {
   "cell_type": "code",
   "execution_count": 25,
   "metadata": {},
   "outputs": [],
   "source": [
    "# url = \n",
    "# Image = url_to_image(url)\n",
    "# Image = cv2.resize(Image, (150,150))\n",
    "# plt.imshow(Image)"
   ]
  },
  {
   "cell_type": "markdown",
   "metadata": {},
   "source": [
    "#### Generating Superpixels"
   ]
  },
  {
   "cell_type": "code",
   "execution_count": 26,
   "metadata": {},
   "outputs": [
    {
     "name": "stdout",
     "output_type": "stream",
     "text": [
      "Number of Super pixels generated: 64\n"
     ]
    },
    {
     "data": {
      "text/plain": [
       "<matplotlib.image.AxesImage at 0x22790c9f700>"
      ]
     },
     "execution_count": 26,
     "metadata": {},
     "output_type": "execute_result"
    },
    {
     "data": {
      "image/png": "[encoded data removed]",
      "text/plain": [
       "<Figure size 432x288 with 1 Axes>"
      ]
     },
     "metadata": {
      "needs_background": "light"
     },
     "output_type": "display_data"
    }
   ],
   "source": [
    "# draw_Img(Image)\n",
    "num_superpixels , super_pixels = Generate_Superpixels(Image, 200)\n",
    "skimage.io.imshow(skimage.segmentation.mark_boundaries(Image, super_pixels))"
   ]
  },
  {
   "cell_type": "markdown",
   "metadata": {},
   "source": [
    "#### Generating Perturbations"
   ]
  },
  {
   "cell_type": "code",
   "execution_count": 27,
   "metadata": {},
   "outputs": [
    {
     "name": "stdout",
     "output_type": "stream",
     "text": [
      "Changes in the superpixels in each perturbations are: 64\n",
      "Number of perturbations: 150\n"
     ]
    },
    {
     "data": {
      "text/plain": [
       "<matplotlib.image.AxesImage at 0x22790c288e0>"
      ]
     },
     "execution_count": 27,
     "metadata": {},
     "output_type": "execute_result"
    },
    {
     "data": {
      "image/png": "[encoded data removed]",
      "text/plain": [
       "<Figure size 432x288 with 1 Axes>"
      ]
     },
     "metadata": {
      "needs_background": "light"
     },
     "output_type": "display_data"
    }
   ],
   "source": [
    "perturbations = Generate_Perturbations(150)\n",
    "skimage.io.imshow(perturb_Image(Image, perturbations[0],super_pixels))"
   ]
  },
  {
   "cell_type": "code",
   "execution_count": 28,
   "metadata": {},
   "outputs": [],
   "source": [
    "Perturbated_Df = pd.DataFrame(perturbations.flatten())\n",
    "Perturbated_Df.shape\n",
    "predictions = []"
   ]
  },
  {
   "cell_type": "markdown",
   "metadata": {},
   "source": [
    "#### Making Predictions"
   ]
  },
  {
   "cell_type": "code",
   "execution_count": 29,
   "metadata": {},
   "outputs": [],
   "source": [
    "for pert in perturbations:\n",
    "    perturbed_img = perturb_Image(Image,pert,super_pixels)\n",
    "    pred = model.predict(perturbed_img[np.newaxis,:,:,:])\n",
    "    predictions.append(pred)"
   ]
  },
  {
   "cell_type": "code",
   "execution_count": 30,
   "metadata": {},
   "outputs": [],
   "source": [
    "predictions = np.array(predictions)"
   ]
  },
  {
   "cell_type": "markdown",
   "metadata": {},
   "source": [
    "#### Compute distances and weights"
   ]
  },
  {
   "cell_type": "code",
   "execution_count": 31,
   "metadata": {},
   "outputs": [],
   "source": [
    "distances = Compute_Distances(num_superpixels, perturbations)"
   ]
  },
  {
   "cell_type": "code",
   "execution_count": 32,
   "metadata": {},
   "outputs": [],
   "source": [
    "weights = Compute_weights(distances, 0.25)"
   ]
  },
  {
   "cell_type": "markdown",
   "metadata": {},
   "source": [
    "#### Linear regression using predictions and weights"
   ]
  },
  {
   "cell_type": "code",
   "execution_count": 33,
   "metadata": {},
   "outputs": [],
   "source": [
    "coeffs = fit_weights(perturbations, predictions, weights)"
   ]
  },
  {
   "cell_type": "markdown",
   "metadata": {},
   "source": [
    "#### Plotting the masked image"
   ]
  },
  {
   "cell_type": "code",
   "execution_count": 35,
   "metadata": {
    "scrolled": true
   },
   "outputs": [
    {
     "data": {
      "image/png": "[encoded data removed]",
      "text/plain": [
       "<Figure size 432x288 with 1 Axes>"
      ]
     },
     "metadata": {
      "needs_background": "light"
     },
     "output_type": "display_data"
    }
   ],
   "source": [
    "mask_image(Image, num_superpixels, super_pixels, 10, coeffs)"
   ]
  },
  {
   "cell_type": "code",
   "execution_count": 42,
   "metadata": {
    "scrolled": true
   },
   "outputs": [
    {
     "data": {
      "text/plain": [
       "array([-0.07444535, -0.07922529,  0.05257064, -0.01920261, -0.00662521,\n",
       "        0.00032139,  0.00581933, -0.01566385,  0.02732145,  0.05551688,\n",
       "        0.0359863 , -0.0106914 , -0.03633748,  0.00609617, -0.05211183,\n",
       "        0.10056367, -0.0541527 ,  0.09035607,  0.00718098, -0.05871385,\n",
       "       -0.05431046, -0.06508323, -0.05691586, -0.00943613, -0.01107341,\n",
       "        0.06278585, -0.0152855 , -0.03872242, -0.00141923,  0.02507617,\n",
       "       -0.00740246,  0.05318433,  0.01031071, -0.0011287 ,  0.1286379 ,\n",
       "       -0.00504016,  0.06608562, -0.02740998,  0.12430826, -0.02982788,\n",
       "       -0.04057063, -0.00612056,  0.065647  , -0.02407687, -0.08521881,\n",
       "        0.013704  , -0.03920693, -0.09822491, -0.02573204, -0.03551653,\n",
       "       -0.01929253, -0.00258193, -0.00148438,  0.0283506 ,  0.04596614,\n",
       "       -0.061817  , -0.05338613,  0.00614983, -0.024224  ,  0.09589174,\n",
       "       -0.05149663, -0.06723924, -0.01705775,  0.05330035])"
      ]
     },
     "execution_count": 42,
     "metadata": {},
     "output_type": "execute_result"
    }
   ],
   "source": [
    "(coeffs)"
   ]
  },
  {
   "cell_type": "code",
   "execution_count": 37,
   "metadata": {},
   "outputs": [],
   "source": [
    "import cv2\n",
    "import matplotlib.pyplot as plt\n",
    "import numpy as np\n",
    "def Preprocess_Data(Img):\n",
    "    Image = cv2.resize(Img, (224, 224), interpolation=cv2.INTER_CUBIC)\n",
    "    return Image\n",
    "\n",
    "def Lime_Explain(Img, Model):\n",
    "    explainer = lime_image.LimeImageExplainer(random_state=42)\n",
    "    explanation = explainer.explain_instance(\n",
    "          Img.astype('float'), \n",
    "          Model.predict\n",
    "    )\n",
    "    image1, mask = explanation.get_image_and_mask(\n",
    "          Model.predict(Img.reshape(-1,224,224,3)).argmax(axis=1)[0],\n",
    "          positive_only=True, \n",
    "          num_features = 5,\n",
    "          hide_rest=True)\n",
    "    image2, heatmap = explanation.get_image_and_mask(\n",
    "          explanation.top_labels[0], \n",
    "          positive_only=False, \n",
    "          num_features=10, \n",
    "          hide_rest=False)\n",
    "  \n",
    "    return image1, mask, image2, heatmap\n",
    "\n",
    "def predict_plot(Img, Model):\n",
    "    Image = Preprocess_Data(Img)\n",
    "    image1, masked, image2, heatmap = Lime_Explain(Image, model)\n",
    "    print(Model.predict(Image.reshape(-1,224,224,3)))\n",
    "    fig = plt.figure(figsize=(10, 7))\n",
    "    fig.add_subplot(1, 3, 1)\n",
    "    plt.imshow(Image)\n",
    "    plt.axis('on')\n",
    "    plt.title(\"Original Image\")\n",
    "\n",
    "    fig.add_subplot(1, 3, 2)\n",
    "    plt.imshow(mark_boundaries(image1, masked))\n",
    "    plt.axis('on')\n",
    "    plt.title(\"Masked image\")\n",
    "    \n",
    "  # fig.add_subplot(1, 3, 3)\n",
    "  # plt.imshow(Image)\n",
    "  # plt.axis('on')\n",
    "  # plt.title(\"Original Image\")\n",
    "\n",
    "    fig.add_subplot(1, 3, 3)\n",
    "    plt.imshow(mark_boundaries(image2, heatmap))\n",
    "    plt.axis('on')\n",
    "    plt.title(\"Masked heatmap\")"
   ]
  },
  {
   "cell_type": "code",
   "execution_count": 38,
   "metadata": {},
   "outputs": [
    {
     "data": {
      "application/vnd.jupyter.widget-view+json": {
       "model_id": "c54b5c6aef8d4542b22a9cdb546f4f79",
       "version_major": 2,
       "version_minor": 0
      },
      "text/plain": [
       "HBox(children=(HTML(value=''), FloatProgress(value=0.0, max=1000.0), HTML(value='')))"
      ]
     },
     "metadata": {},
     "output_type": "display_data"
    },
    {
     "name": "stdout",
     "output_type": "stream",
     "text": [
      "\n",
      "[[0.08401611]]\n"
     ]
    },
    {
     "data": {
      "image/png": "[encoded data removed]",
      "text/plain": [
       "<Figure size 720x504 with 3 Axes>"
      ]
     },
     "metadata": {
      "needs_background": "light"
     },
     "output_type": "display_data"
    }
   ],
   "source": [
    "predict_plot(Image, model)"
   ]
  },
  {
   "cell_type": "code",
   "execution_count": 32,
   "metadata": {},
   "outputs": [],
   "source": [
    "def generate_predictions(Image):\n",
    "    prediction = model.predict(Image[np.newaxis,:,:,:])\n",
    "    if(prediction < 0.5):\n",
    "        print(\"Covid detected\")\n",
    "    else:\n",
    "        print(\"Non covid\")"
   ]
  },
  {
   "cell_type": "code",
   "execution_count": 33,
   "metadata": {},
   "outputs": [
    {
     "name": "stdout",
     "output_type": "stream",
     "text": [
      "Covid detected\n"
     ]
    }
   ],
   "source": [
    "generate_predictions(Image)"
   ]
  },
  {
   "cell_type": "code",
   "execution_count": null,
   "metadata": {},
   "outputs": [],
   "source": []
  },
  {
   "cell_type": "code",
   "execution_count": null,
   "metadata": {},
   "outputs": [],
   "source": []
  },
  {
   "cell_type": "code",
   "execution_count": null,
   "metadata": {},
   "outputs": [],
   "source": []
  },
  {
   "cell_type": "code",
   "execution_count": null,
   "metadata": {},
   "outputs": [],
   "source": []
  },
  {
   "cell_type": "code",
   "execution_count": null,
   "metadata": {},
   "outputs": [],
   "source": []
  },
  {
   "cell_type": "code",
   "execution_count": null,
   "metadata": {},
   "outputs": [],
   "source": []
  },
  {
   "cell_type": "code",
   "execution_count": null,
   "metadata": {},
   "outputs": [],
   "source": []
  },
  {
   "cell_type": "code",
   "execution_count": null,
   "metadata": {},
   "outputs": [],
   "source": []
  },
  {
   "cell_type": "code",
   "execution_count": null,
   "metadata": {},
   "outputs": [],
   "source": []
  },
  {
   "cell_type": "code",
   "execution_count": null,
   "metadata": {},
   "outputs": [],
   "source": []
  },
  {
   "cell_type": "code",
   "execution_count": null,
   "metadata": {},
   "outputs": [],
   "source": []
  },
  {
   "cell_type": "code",
   "execution_count": null,
   "metadata": {},
   "outputs": [],
   "source": []
  },
  {
   "cell_type": "code",
   "execution_count": null,
   "metadata": {},
   "outputs": [],
   "source": []
  },
  {
   "cell_type": "code",
   "execution_count": null,
   "metadata": {},
   "outputs": [],
   "source": []
  },
  {
   "cell_type": "code",
   "execution_count": null,
   "metadata": {},
   "outputs": [],
   "source": []
  },
  {
   "cell_type": "code",
   "execution_count": null,
   "metadata": {},
   "outputs": [],
   "source": []
  },
  {
   "cell_type": "code",
   "execution_count": 74,
   "metadata": {},
   "outputs": [
    {
     "data": {
      "text/plain": [
       "0"
      ]
     },
     "execution_count": 74,
     "metadata": {},
     "output_type": "execute_result"
    }
   ],
   "source": [
    "from gradcam import GradCAM\n",
    "from tensorflow.keras.applications import ResNet50\n",
    "from tensorflow.keras.applications import VGG16\n",
    "from tensorflow.keras.preprocessing.image import img_to_array\n",
    "from tensorflow.keras.preprocessing.image import load_img\n",
    "from tensorflow.keras.applications import imagenet_utils\n",
    "from tensorflow.keras.models import load_model\n",
    "import numpy as np\n",
    "import cv2\n",
    "\n",
    "\n",
    "# construct the argument parser and parse the arguments\n",
    "# ap = argparse.ArgumentParser()\n",
    "# ap.add_argument(\"-i\", \"--image\", required=True,\n",
    "#     help=\"path to the input image\")\n",
    "# ap.add_argument(\"-m\", \"--model\", type=str, default=\"vgg\",\n",
    "#     #choices=(\"vgg\", \"resnet\"),\n",
    "#     help=\"model to be used\")\n",
    "# args = vars(ap.parse_args())\n",
    "\n",
    "\n",
    "# initialize the model to be VGG16\n",
    "Model = model\n",
    "# # check to see if we are using ResNet\n",
    "# if args[\"model\"] == \"resnet\":\n",
    "#     Model = ResNet50\n",
    "# # load the pre-trained CNN from disk\n",
    "# print(\"[INFO] loading model...\")\n",
    "# model = Model(weights=\"imagenet\")\n",
    "\n",
    "# load the original image from disk (in OpenCV format) and then\n",
    "# resize the image to its target dimensions\n",
    "Image_Path = r\"C:\\Users\\Teja Nikhil\\OneDrive\\Desktop\\COVID-19_Radiography_Dataset\\covid_direc\\COVID\\COVID-8.png\"\n",
    "Image = readImage(Image_Path)\n",
    "# orig = cv2.imread(args[\"image\"])\n",
    "resized = cv2.resize(Image, (224, 224))\n",
    "# load the input image from disk (in Keras/TensorFlow format) and\n",
    "# preprocess it\n",
    "# image = imagenet_utils.preprocess_input(image)\n",
    "test_image1 = Image[np.newaxis,:,:,:]\n",
    "preds = model.predict(test_image1)\n",
    "# use the network to make predictions on the input image and find\n",
    "# the class label index with the largest corresponding probability\n",
    "i = np.argmax(preds[0])\n",
    "# decode the ImageNet predictions to obtain the human-readable label\n",
    "# decoded = imagenet_utils.decode_predictions(preds)\n",
    "# (imagenetID, label, prob) = decoded[0][0]\n",
    "# label = \"{}: {:.2f}%\".format(label, prob * 100)\n",
    "# print(\"[INFO] {}\".format(label))\n",
    "\n",
    "i"
   ]
  },
  {
   "cell_type": "code",
   "execution_count": 78,
   "metadata": {},
   "outputs": [
    {
     "data": {
      "text/plain": [
       "<matplotlib.image.AxesImage at 0x22787e176d0>"
      ]
     },
     "execution_count": 78,
     "metadata": {},
     "output_type": "execute_result"
    },
    {
     "data": {
      "image/png": "[encoded data removed]",
      "text/plain": [
       "<Figure size 432x288 with 1 Axes>"
      ]
     },
     "metadata": {
      "needs_background": "light"
     },
     "output_type": "display_data"
    }
   ],
   "source": [
    "plt.imshow(Image)"
   ]
  },
  {
   "cell_type": "code",
   "execution_count": 75,
   "metadata": {},
   "outputs": [],
   "source": [
    "# initialize our gradient class activation map and build the heatmap\n",
    "cam = GradCAM(model, i)\n",
    "heatmap = cam.compute_heatmap(test_image1)"
   ]
  },
  {
   "cell_type": "code",
   "execution_count": 76,
   "metadata": {},
   "outputs": [
    {
     "data": {
      "text/plain": [
       "array([[254, 254, 254, ...,   4,   4,   4],\n",
       "       [254, 254, 254, ...,   4,   4,   4],\n",
       "       [254, 254, 254, ...,   4,   4,   4],\n",
       "       ...,\n",
       "       [140, 140, 140, ...,  13,  13,  13],\n",
       "       [140, 140, 140, ...,  13,  13,  13],\n",
       "       [140, 140, 140, ...,  13,  13,  13]], dtype=uint8)"
      ]
     },
     "execution_count": 76,
     "metadata": {},
     "output_type": "execute_result"
    }
   ],
   "source": [
    "# resize the resulting heatmap to the original input image dimensions\n",
    "# and then overlay heatmap on top of the image\n",
    "heatmap = cv2.resize(heatmap, (Image.shape[1], Image.shape[0]))\n",
    "heatmap"
   ]
  },
  {
   "cell_type": "code",
   "execution_count": 1,
   "metadata": {},
   "outputs": [
    {
     "ename": "NameError",
     "evalue": "name 'plt' is not defined",
     "output_type": "error",
     "traceback": [
      "\u001b[1;31m---------------------------------------------------------------------------\u001b[0m",
      "\u001b[1;31mNameError\u001b[0m                                 Traceback (most recent call last)",
      "\u001b[1;32m<ipython-input-1-601b87833856>\u001b[0m in \u001b[0;36m<module>\u001b[1;34m\u001b[0m\n\u001b[1;32m----> 1\u001b[1;33m \u001b[0mplt\u001b[0m\u001b[1;33m.\u001b[0m\u001b[0mimshow\u001b[0m\u001b[1;33m(\u001b[0m\u001b[0mheatmap\u001b[0m\u001b[1;33m,\u001b[0m \u001b[0mcmap\u001b[0m \u001b[1;33m=\u001b[0m \u001b[1;34m\"gray\"\u001b[0m\u001b[1;33m)\u001b[0m\u001b[1;33m\u001b[0m\u001b[1;33m\u001b[0m\u001b[0m\n\u001b[0m",
      "\u001b[1;31mNameError\u001b[0m: name 'plt' is not defined"
     ]
    }
   ],
   "source": [
    "plt.imshow(heatmap, cmap = \"gray\")"
   ]
  },
  {
   "cell_type": "code",
   "execution_count": 68,
   "metadata": {},
   "outputs": [
    {
     "ename": "error",
     "evalue": "OpenCV(4.5.4) D:\\a\\opencv-python\\opencv-python\\opencv\\modules\\core\\src\\arithm.cpp:674: error: (-5:Bad argument) When the input arrays in add/subtract/multiply/divide functions have different types, the output array type must be explicitly specified in function 'cv::arithm_op'\n",
     "output_type": "error",
     "traceback": [
      "\u001b[1;31m---------------------------------------------------------------------------\u001b[0m",
      "\u001b[1;31merror\u001b[0m                                     Traceback (most recent call last)",
      "\u001b[1;32m<ipython-input-68-877761ac3484>\u001b[0m in \u001b[0;36m<module>\u001b[1;34m\u001b[0m\n\u001b[1;32m----> 1\u001b[1;33m \u001b[0mheatmap\u001b[0m \u001b[1;33m=\u001b[0m \u001b[0mcam\u001b[0m\u001b[1;33m.\u001b[0m\u001b[0moverlay_heatmap\u001b[0m\u001b[1;33m(\u001b[0m\u001b[0mheatmap\u001b[0m\u001b[1;33m,\u001b[0m \u001b[0mImage\u001b[0m\u001b[1;33m,\u001b[0m \u001b[0malpha\u001b[0m\u001b[1;33m=\u001b[0m\u001b[1;36m0.5\u001b[0m\u001b[1;33m)\u001b[0m\u001b[1;33m\u001b[0m\u001b[1;33m\u001b[0m\u001b[0m\n\u001b[0m",
      "\u001b[1;32m~\\Holidays\\Covid Directory\\gradcam.py\u001b[0m in \u001b[0;36moverlay_heatmap\u001b[1;34m(self, heatmap, image, alpha, colormap)\u001b[0m\n\u001b[0;32m     88\u001b[0m         \u001b[1;31m# overlay the heatmap on the input image\u001b[0m\u001b[1;33m\u001b[0m\u001b[1;33m\u001b[0m\u001b[1;33m\u001b[0m\u001b[0m\n\u001b[0;32m     89\u001b[0m         \u001b[0mheatmap\u001b[0m \u001b[1;33m=\u001b[0m \u001b[0mcv2\u001b[0m\u001b[1;33m.\u001b[0m\u001b[0mapplyColorMap\u001b[0m\u001b[1;33m(\u001b[0m\u001b[0mheatmap\u001b[0m\u001b[1;33m,\u001b[0m \u001b[0mcolormap\u001b[0m\u001b[1;33m)\u001b[0m\u001b[1;33m\u001b[0m\u001b[1;33m\u001b[0m\u001b[0m\n\u001b[1;32m---> 90\u001b[1;33m         \u001b[0moutput\u001b[0m \u001b[1;33m=\u001b[0m \u001b[0mcv2\u001b[0m\u001b[1;33m.\u001b[0m\u001b[0maddWeighted\u001b[0m\u001b[1;33m(\u001b[0m\u001b[0mimage\u001b[0m\u001b[1;33m,\u001b[0m \u001b[0malpha\u001b[0m\u001b[1;33m,\u001b[0m \u001b[0mheatmap\u001b[0m\u001b[1;33m,\u001b[0m \u001b[1;36m1\u001b[0m \u001b[1;33m-\u001b[0m \u001b[0malpha\u001b[0m\u001b[1;33m,\u001b[0m \u001b[1;36m0\u001b[0m\u001b[1;33m)\u001b[0m\u001b[1;33m\u001b[0m\u001b[1;33m\u001b[0m\u001b[0m\n\u001b[0m\u001b[0;32m     91\u001b[0m         \u001b[1;31m# return a 2-tuple of the color mapped heatmap and the output,\u001b[0m\u001b[1;33m\u001b[0m\u001b[1;33m\u001b[0m\u001b[1;33m\u001b[0m\u001b[0m\n\u001b[0;32m     92\u001b[0m         \u001b[1;31m# overlaid image\u001b[0m\u001b[1;33m\u001b[0m\u001b[1;33m\u001b[0m\u001b[1;33m\u001b[0m\u001b[0m\n",
      "\u001b[1;31merror\u001b[0m: OpenCV(4.5.4) D:\\a\\opencv-python\\opencv-python\\opencv\\modules\\core\\src\\arithm.cpp:674: error: (-5:Bad argument) When the input arrays in add/subtract/multiply/divide functions have different types, the output array type must be explicitly specified in function 'cv::arithm_op'\n"
     ]
    }
   ],
   "source": [
    "heatmap = cam.overlay_heatmap(heatmap, Image, alpha=0.5)"
   ]
  },
  {
   "cell_type": "code",
   "execution_count": 79,
   "metadata": {},
   "outputs": [
    {
     "ename": "NameError",
     "evalue": "name 'output' is not defined",
     "output_type": "error",
     "traceback": [
      "\u001b[1;31m---------------------------------------------------------------------------\u001b[0m",
      "\u001b[1;31mNameError\u001b[0m                                 Traceback (most recent call last)",
      "\u001b[1;32m<ipython-input-79-83f7e5953049>\u001b[0m in \u001b[0;36m<module>\u001b[1;34m\u001b[0m\n\u001b[1;32m----> 1\u001b[1;33m \u001b[0mcv2\u001b[0m\u001b[1;33m.\u001b[0m\u001b[0mrectangle\u001b[0m\u001b[1;33m(\u001b[0m\u001b[0moutput\u001b[0m\u001b[1;33m,\u001b[0m \u001b[1;33m(\u001b[0m\u001b[1;36m0\u001b[0m\u001b[1;33m,\u001b[0m \u001b[1;36m0\u001b[0m\u001b[1;33m)\u001b[0m\u001b[1;33m,\u001b[0m \u001b[1;33m(\u001b[0m\u001b[1;36m340\u001b[0m\u001b[1;33m,\u001b[0m \u001b[1;36m40\u001b[0m\u001b[1;33m)\u001b[0m\u001b[1;33m,\u001b[0m \u001b[1;33m(\u001b[0m\u001b[1;36m0\u001b[0m\u001b[1;33m,\u001b[0m \u001b[1;36m0\u001b[0m\u001b[1;33m,\u001b[0m \u001b[1;36m0\u001b[0m\u001b[1;33m)\u001b[0m\u001b[1;33m,\u001b[0m \u001b[1;33m-\u001b[0m\u001b[1;36m1\u001b[0m\u001b[1;33m)\u001b[0m\u001b[1;33m\u001b[0m\u001b[1;33m\u001b[0m\u001b[0m\n\u001b[0m\u001b[0;32m      2\u001b[0m cv2.putText(output, label, (10, 25), cv2.FONT_HERSHEY_SIMPLEX,\n\u001b[0;32m      3\u001b[0m     0.8, (255, 255, 255), 2)\n\u001b[0;32m      4\u001b[0m \u001b[1;31m# display the original image and resulting heatmap and output image\u001b[0m\u001b[1;33m\u001b[0m\u001b[1;33m\u001b[0m\u001b[1;33m\u001b[0m\u001b[0m\n\u001b[0;32m      5\u001b[0m \u001b[1;31m# to our screen\u001b[0m\u001b[1;33m\u001b[0m\u001b[1;33m\u001b[0m\u001b[1;33m\u001b[0m\u001b[0m\n",
      "\u001b[1;31mNameError\u001b[0m: name 'output' is not defined"
     ]
    }
   ],
   "source": [
    "cv2.rectangle(output, (0, 0), (340, 40), (0, 0, 0), -1)\n",
    "cv2.putText(output, label, (10, 25), cv2.FONT_HERSHEY_SIMPLEX,\n",
    "    0.8, (255, 255, 255), 2)\n",
    "# display the original image and resulting heatmap and output image\n",
    "# to our screen\n",
    "output = np.vstack([Image, heatmap, output])\n",
    "cv2.imshow(\"Output\", output)\n",
    "cv2.waitKey(0)"
   ]
  },
  {
   "cell_type": "code",
   "execution_count": null,
   "metadata": {},
   "outputs": [],
   "source": []
  }
 ],
 "metadata": {
  "kernelspec": {
   "display_name": "Python 3",
   "language": "python",
   "name": "python3"
  },
  "language_info": {
   "codemirror_mode": {
    "name": "ipython",
    "version": 3
   },
   "file_extension": ".py",
   "mimetype": "text/x-python",
   "name": "python",
   "nbconvert_exporter": "python",
   "pygments_lexer": "ipython3",
   "version": "3.8.5"
  }
 },
 "nbformat": 4,
 "nbformat_minor": 4
}
