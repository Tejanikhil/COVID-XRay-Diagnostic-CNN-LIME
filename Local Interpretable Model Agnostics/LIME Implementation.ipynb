{
 "cells": [
  {
   "cell_type": "markdown",
   "metadata": {},
   "source": [
    "* **Image Reading**\n",
    "* **Generating Super pixels**\n",
    "* **Generating Perturbations**\n",
    "* **Making predictions**\n",
    "* **Compute distance and weights**\n",
    "* **Fitting a Linear regression**\n",
    "* **Generating the mask**"
   ]
  },
  {
   "cell_type": "code",
   "execution_count": 5,
   "metadata": {},
   "outputs": [
    {
     "name": "stdout",
     "output_type": "stream",
     "text": [
      "Notebook running: keras  2.7.0\n"
     ]
    }
   ],
   "source": [
    "import tensorflow\n",
    "import numpy as np\n",
    "from tensorflow.keras.applications.imagenet_utils import decode_predictions\n",
    "import skimage.io \n",
    "import skimage.segmentation\n",
    "import copy\n",
    "import sklearn\n",
    "import sklearn.metrics\n",
    "import pandas as pd\n",
    "from sklearn.linear_model import LinearRegression\n",
    "import warnings\n",
    "import urllib\n",
    "warnings.filterwarnings(\"ignore\")\n",
    "print('Notebook running: keras ', tensorflow.keras.__version__)\n",
    "np.random.seed(222)"
   ]
  },
  {
   "cell_type": "code",
   "execution_count": null,
   "metadata": {},
   "outputs": [],
   "source": [
    "def readImage(Image_Path):\n",
    "    image = cv2.imread(Image_Path)\n",
    "    image = cv2.cvtColor(image, cv2.COLOR_BGR2RGB)\n",
    "    image = skimage.transform.resize(image, (224 ,224)) \n",
    "    return image\n",
    "\n",
    "def draw_Img(img, title = \"Image\"):\n",
    "    plt.imshow(img)\n",
    "    plt.axis('off')\n",
    "    plt.style.use('seaborn')\n",
    "    plt.title(title+str(img.shape))\n",
    "    skimage.io.imshow(Image) \n",
    "    plt.show()\n",
    "\n",
    "def Generate_Superpixels(Image, pixel_dist):\n",
    "    superpixels = skimage.segmentation.quickshift(Image, kernel_size = 3, max_dist = pixel_dist, ratio = 0.2)\n",
    "    num_superpixels = np.unique(superpixels).shape[0]\n",
    "    print(f\"Number of Super pixels generated: {num_superpixels}\")\n",
    "    return num_superpixels, superpixels\n",
    "\n",
    "def Generate_Perturbations(num_perturbations):\n",
    "    perturbations = np.random.binomial(1, 0.5, size=(num_perturbations, num_superpixels))\n",
    "    # each row represnt each perturbation \n",
    "    # each column represent the super pixels\n",
    "    print(f\"Changes in the superpixels in each perturbations are: {len(perturbations[0])}\")\n",
    "    print(f\"Number of perturbations: {len(perturbations)}\")\n",
    "    return perturbations\n",
    "\n",
    "def perturb_Image(img, perturbation, segments):\n",
    "    active_pixels = np.where(perturbation == 1)[0]\n",
    "    mask = np.zeros(segments.shape)\n",
    "    for active in active_pixels:\n",
    "        mask[segments == active] = 1 \n",
    "    perturbed_image = copy.deepcopy(img)\n",
    "    perturbed_image = perturbed_image*mask[:,:,np.newaxis]\n",
    "    return perturbed_image\n",
    "\n",
    "def Compute_Distances(num_superpixels, perturbations):\n",
    "    original_image = np.ones(num_superpixels)[np.newaxis,:] #Perturbation with all superpixels enabled \n",
    "    distances = sklearn.metrics.pairwise_distances(perturbations,original_image, metric='cosine').ravel()\n",
    "    distances.shape\n",
    "    return distances\n",
    "\n",
    "\n",
    "def Compute_weights(distances, kernel_width):\n",
    "    weights = np.sqrt(np.exp(-(distances**2)/kernel_width**2)) #Kernel function\n",
    "    return weights\n",
    "\n",
    "def fit_weights(perturbations, predictions, weights):\n",
    "    simpler_model = LinearRegression()\n",
    "    simpler_model.fit(X=perturbations, y=predictions[:,:,0], sample_weight=weights)\n",
    "    coeff = simpler_model.coef_[0]\n",
    "    return coeff\n",
    "\n",
    "def mask_image(Image, num_superpixels, super_pixels, num_top_features, coeff):\n",
    "    top_features = np.argsort(coeff)[-num_top_features:] \n",
    "    mask = np.zeros(num_superpixels) \n",
    "    mask[top_features]= True #Activate top superpixels\n",
    "    skimage.io.imshow(perturb_Image(Image,mask,super_pixels))\n",
    "\n",
    "def url_to_image(url):\n",
    "    resp = urllib.request.urlopen(url)\n",
    "    image = np.asarray(bytearray(resp.read()), dtype=\"uint8\")\n",
    "    image = cv2.imdecode(image, cv2.IMREAD_COLOR)\n",
    "    return image"
   ]
  },
  {
   "cell_type": "markdown",
   "metadata": {},
   "source": [
    "#### Image Reading"
   ]
  },
  {
   "cell_type": "code",
   "execution_count": null,
   "metadata": {},
   "outputs": [],
   "source": [
    "# Image_Path =  r\"C:\\Users\\Teja Nikhil\\OneDrive\\Desktop\\COVID-19_Radiography_Dataset\\Testing\\COVID-22.png\"\n",
    "Image_Path = r\"C:\\Users\\Teja Nikhil\\OneDrive\\Desktop\\Test1.png\"\n",
    "Image = readImage(Image_Path)\n",
    "plt.imshow(Image)"
   ]
  },
  {
   "cell_type": "markdown",
   "metadata": {},
   "source": [
    "#### Generating Superpixels"
   ]
  },
  {
   "cell_type": "code",
   "execution_count": null,
   "metadata": {},
   "outputs": [],
   "source": [
    "# draw_Img(Image)\n",
    "num_superpixels , super_pixels = Generate_Superpixels(Image, 200)\n",
    "skimage.io.imshow(skimage.segmentation.mark_boundaries(Image, super_pixels))"
   ]
  },
  {
   "cell_type": "markdown",
   "metadata": {},
   "source": [
    "#### Generating Perturbations"
   ]
  },
  {
   "cell_type": "code",
   "execution_count": null,
   "metadata": {},
   "outputs": [],
   "source": [
    "perturbations = Generate_Perturbations(150)\n",
    "skimage.io.imshow(perturb_Image(Image, perturbations[0],super_pixels))"
   ]
  },
  {
   "cell_type": "code",
   "execution_count": null,
   "metadata": {},
   "outputs": [],
   "source": [
    "Perturbated_Df = pd.DataFrame(perturbations.flatten())\n",
    "Perturbated_Df.shape\n",
    "predictions = []"
   ]
  },
  {
   "cell_type": "markdown",
   "metadata": {},
   "source": [
    "#### Making Predictions"
   ]
  },
  {
   "cell_type": "code",
   "execution_count": null,
   "metadata": {},
   "outputs": [],
   "source": [
    "for pert in perturbations:\n",
    "    perturbed_img = perturb_Image(Image,pert,super_pixels)\n",
    "    pred = model.predict(perturbed_img[np.newaxis,:,:,:])\n",
    "    predictions.append(pred)"
   ]
  },
  {
   "cell_type": "code",
   "execution_count": null,
   "metadata": {},
   "outputs": [],
   "source": [
    "predictions = np.array(predictions)"
   ]
  },
  {
   "cell_type": "markdown",
   "metadata": {},
   "source": [
    "#### Compute distances and weights"
   ]
  },
  {
   "cell_type": "code",
   "execution_count": null,
   "metadata": {},
   "outputs": [],
   "source": [
    "distances = Compute_Distances(num_superpixels, perturbations)"
   ]
  },
  {
   "cell_type": "code",
   "execution_count": null,
   "metadata": {},
   "outputs": [],
   "source": [
    "weights = Compute_weights(distances, 0.25)"
   ]
  },
  {
   "cell_type": "markdown",
   "metadata": {},
   "source": [
    "#### Linear regression using predictions and weights"
   ]
  },
  {
   "cell_type": "code",
   "execution_count": null,
   "metadata": {},
   "outputs": [],
   "source": [
    "coeffs = fit_weights(perturbations, predictions, weights)"
   ]
  },
  {
   "cell_type": "markdown",
   "metadata": {},
   "source": [
    "#### Plotting the masked image"
   ]
  },
  {
   "cell_type": "code",
   "execution_count": null,
   "metadata": {},
   "outputs": [],
   "source": [
    "mask_image(Image, num_superpixels, super_pixels, 10, coeffs)"
   ]
  }
 ],
 "metadata": {
  "kernelspec": {
   "display_name": "Python 3",
   "language": "python",
   "name": "python3"
  },
  "language_info": {
   "codemirror_mode": {
    "name": "ipython",
    "version": 3
   },
   "file_extension": ".py",
   "mimetype": "text/x-python",
   "name": "python",
   "nbconvert_exporter": "python",
   "pygments_lexer": "ipython3",
   "version": "3.8.5"
  }
 },
 "nbformat": 4,
 "nbformat_minor": 4
}
